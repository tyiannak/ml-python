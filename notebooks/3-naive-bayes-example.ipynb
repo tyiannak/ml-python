{
 "cells": [
  {
   "cell_type": "code",
   "execution_count": 116,
   "metadata": {},
   "outputs": [],
   "source": [
    "data_file = \"training.1600000.processed.noemoticon.csv\"\n",
    "from csv import reader\n",
    "# open file in read mode\n",
    "count = 0\n",
    "c1 = []\n",
    "c2 = []\n",
    "c3 = []\n",
    "\n",
    "words_to_use = [\"love\", \"hate\", \"aww\", \"bad\", \"good\", \"great\", \"fuck\", \"jesus\", \"sucks\", \"suck\", \"pleased\", \n",
    "                \"fanntastic\", \"amazing\", \"enjoy\", \"excellent\", \"day\", \"today\", \"yesterday\", \"dad\", \"mom\",\n",
    "               \"kid\", \"child\", \"year\", \"think\", \"way\", \"first\", \"well\", \"even\", \"new\", \"any\", \"most\", \"man\", \"boy\",\n",
    "               \"woman\", \"girl\", \"time\", \"person\", \"sad\", \"happy\", \"yes\", \"no\"]\n",
    "\n",
    "with open(data_file, 'r', encoding='mac_roman') as read_obj:\n",
    "    # pass the file object to reader() to get the reader object\n",
    "    csv_reader = reader(read_obj)\n",
    "    # Iterate over each row in the csv using reader object\n",
    "    for row in csv_reader:\n",
    "        st = ([s.strip().lower() for s in row])\n",
    "        cur_str = []\n",
    "        found = False\n",
    "        for w in st[-1].split(' '):\n",
    "            if len(w) > 0:\n",
    "                if w in words_to_use:\n",
    "                    found = True\n",
    "                    if w[0] not in ['@']:\n",
    "                        cur_str.append(w.replace(\"!\", \"\").replace(\"?\", \"\").replace(\".\", \"\"))\n",
    "\n",
    "        if found:\n",
    "            if (st[0]) == '0':\n",
    "                c1.append(\" \".join(cur_str))\n",
    "            if (st[0]) == '2':\n",
    "                c2.append(\" \".join(cur_str))\n",
    "            if (st[0]) == '4':\n",
    "                c3.append(\" \".join(cur_str))"
   ]
  },
  {
   "cell_type": "code",
   "execution_count": 117,
   "metadata": {},
   "outputs": [
    {
     "name": "stdout",
     "output_type": "stream",
     "text": [
      "['day', 'well', 'any any', 'bad', 'new new', 'happy think new', 'no time love', 'man', 'today', 'today', 'time', 'first', 'day', 'well', 'good', 'sad day', 'day', 'no', 'hate', 'bad', 'first', 'no happy', 'good', 'good', 'new', 'girl', 'day', 'most', 'think', 'no', 'no', 'day', 'no', 'sucks', 'love', 'today', 'no way new', 'year', 'time no', 'sad', 'day', 'hate', 'any good', 'way', 'great', 'good', 'love', 'great hate', 'sucks time', 'no sad', 'great day', 'bad', 'new', 'fuck', 'any', 'day new', 'first person', 'way', 'yes yes', 'yesterday', 'well today', 'great', 'time', 'day', 'man today', 'no', 'sad man', 'day', 'no', 'good today', 'love', 'no', 'great', 'think', 'good good day', 'no love', 'no hate', 'aww well', 'aww yesterday', 'way', 'day', 'new love', 'think', 'dad', 'even', 'no', 'amazing', 'new', 'sad day', 'no', 'day', 'fuck hate', 'day today', 'first', 'amazing', 'even', 'think', 'sad time', 'no', 'day', 'think', 'good love', 'no', 'well', 'bad', 'today', 'any any', 'think', 'great', 'yesterday', 'no', 'new', 'sad', 'great', 'fuck', 'think', 'sad sad', 'no mom day', 'think', 'first', 'no no', 'good good', 'good', 'no way person', 'hate', 'sad', 'today', 'think good', 'day', 'day well', 'hate', 'today', 'hate', 'good', 'first no', 'think bad', 'today', 'good', 'time think', 'day sucks', 'bad boy', 'day', 'time', 'no', 'enjoy', 'most hate', 'no', 'sad good', 'most bad', 'day', 'time', 'mom', 'day mom', 'no', 'day', 'no', 'happy', 'first', 'no', 'well', 'day', 'time', 'person', 'any', 'time day', 'good', 'sad', 'fuck', 'bad yesterday', 'hate', 'today well', 'hate', 'no', 'man', 'think', 'today', 'sad', 'girl well', 'first day', 'love', 'no', 'think', 'love', 'think', 'boy', 'way any', 'love', 'good', 'sad', 'good', 'well', 'think', 'good', 'bad day', 'love good', 'bad', 'think', 'today', 'hate', 'sad day', 'today bad', 'good', 'think today', 'no', 'think', 'new', 'no', 'day', 'first time', 'yesterday', 'no', 'no', 'good', 'love', 'today', 'day', 'no time', 'time', 'no', 'no', 'year dad', 'way', 'great', 'great', 'time fuck', 'hate', 'sad', 'time day', 'good good day', 'no today', 'sucks today', 'yesterday', 'happy', 'think', 'mom', 'good day', 'think', 'today', 'day today well', 'most think', 'new', 'no today', 'yes', 'aww way', 'bad', 'well', 'way good', 'no think', 'sucks', 'day', 'yesterday good today', 'day', 'enjoy day', 'no', 'today', 'great bad', 'first day day', 'sad', 'year sad', 'any', 'boy', 'no', 'bad', 'first', 'even new', 'think', 'mom sad', 'kid', 'first time', 'any', 'day', 'way', 'good', 'no', 'bad', 'no love', 'think', 'love', 'well', 'hate time', 'think', 'great', 'sad', 'no love today', 'well', 'time', 'year', 'today', 'no', 'no', 'most', 'today', 'sad', 'no person', 'day great', 'day well good', 'love', 'way', 'no', 'time', 'mom', 'day', 'no', 'great great', 'new', 'new', 'sad', 'no', 'way', 'sad', 'girl no hate', 'great day', 'yes', 'no day', 'good no', 'love', 'day', 'sad sad', 'kid time', 'love no love mom', 'new good', 'well', 'no', 'today', 'well', 'good', 'today', 'bad', 'first', 'love', 'man', 'no', 'today sucks', 'fuck', 'first', 'good', 'day bad even bad', 'day', 'any', 'great', 'well', 'year', 'think', 'day', 'no', 'day', 'bad bad sucks', 'no', 'even suck', 'sad', 'girl', 'even no', 'sad time', 'today', 'year', 'well sucks', 'year', 'even', 'good way', 'love', 'sad year', 'think good', 'no', 'think', 'no', 'think', 'think', 'yes', 'girl', 'hate bad', 'no', 'bad', 'aww amazing', 'even year', 'well', 'no', 'bad', 'hate', 'no', 'sad', 'no', 'day', 'no', 'any', 'love', 'sad', 'hate no', 'aww', 'any', 'good even', 'sad', 'no no', 'think', 'new', 'well', 'bad', 'even', 'think', 'time', 'no', 'hate', 'even yesterday', 'no year', 'well', 'no great new happy', 'day', 'good way', 'any', 'day', 'person', 'yesterday', 'day day', 'hate', 'bad', 'love', 'first', 'bad', 'good', 'well', 'time', 'sucks new no', 'sad', 'great year', 'no', 'no', 'day', 'new', 'good', 'sad', 'day', 'no', 'think', 'bad', 'day', 'hate', 'no', 'first', 'first day', 'no most', 'think even', 'way', 'way way', 'good', 'aww', 'time', 'today', 'no', 'no good hate', 'even', 'sad', 'time day', 'think', 'good', 'day', 'bad', 'sucks', 'happy', 'sad', 'time', 'hate', 'good', 'way think', 'love', 'today', 'today', 'first', 'bad', 'day', 'most', 'love', 'hate', 'sad', 'today', 'hate', 'yesterday', 'love', 'day', 'well time', 'year', 'well', 'sucks', 'hate', 'day', 'any', 'bad', 'hate yesterday', 'day', 'any good', 'well', 'no', 'no', 'hate', 'new', 'new', 'day', 'good', 'no', 'today', 'most', 'good', 'aww man', 'no sad', 'sad happy', 'day', 'bad no', 'today', 'bad', 'no', 'good', 'no', 'think no time', 'think', 'no bad', 'well', 'great', 'time bad', 'no', 'today', 'sad', 'day', 'sad', 'amazing sad', 'sad', 'bad', 'no', 'today', 'good', 'no', 'day no', 'great sad', 'bad', 'new', 'day', 'no', 'no no', 'no', 'girl even', 'way', 'time', 'bad', 'well', 'bad', 'day sad', 'think good', 'most', 'well', 'even', 'today good', 'sucks time', 'bad', 'yes sad', 'hate', 'sad time', 'way', 'mom', 'yesterday', 'amazing', 'boy boy', 'day', 'good', 'hate hate', 'good new', 'sad', 'love way today', 'day', 'sad', 'no day no no', 'aww', 'aww well', 'think', 'love', 'today think', 'year love even', 'good', 'love', 'well', 'day', 'mom', 'no', 'hate', 'today', 'good even', 'day', 'day time', 'think', 'good', 'way', 'hate', 'good', 'no good bad', 'think today day any', 'hate', 'way well good', 'day', 'good way', 'aww', 'first', 'today', 'think', 'think', 'even', 'good', 'hate hate', 'no today well', 'no', 'sad', 'way', 'well', 'man', 'today', 'day hate', 'dad', 'mom', 'today', 'today', 'time', 'no', 'no', 'sad', 'well time', 'good', 'well', 'any', 'day', 'no way', 'good', 'bad', 'today', 'man', 'good', 'good', 'no', 'any', 'day enjoy', 'love', 'even', 'well', 'today', 'any love', 'no', 'love', 'mom', 'yes', 'today', 'good', 'good', 'day day', 'most', 'good', 'think good', 'even', 'happy', 'today today', 'even', 'time even', 'no', 'today today', 'good', 'no', 'no', 'hate new', 'time', 'happy', 'today', 'great', 'time', 'girl', 'well', 'sad', 'way', 'no', 'no even think', 'good', 'sad today', 'sad', 'no', 'way', 'hate', 'any', 'no today', 'girl man', 'think time', 'bad', 'today', 'sad', 'day', 'today', 'time', 'great', 'good', 'yesterday', 'any', 'sad', 'no', 'sad love', 'think', 'good', 'new', 'happy', 'day', 'no', 'bad', 'sad', 'yesterday happy', 'today today good', 'today', 'love', 'good think any', 'time', 'good', 'think', 'first', 'day', 'no', 'great year', 'enjoy', 'first', 'sucks', 'bad', 'any', 'year', 'bad', 'man', 'good', 'day bad', 'no bad day', 'way', 'man love', 'even', 'day', 'time', 'today', 'happy', 'new', 'sucks', 'bad', 'today', 'sad', 'time', 'today', 'bad love', 'well', 'no', 'today', 'girl', 'aww', 'yesterday', 'bad', 'even', 'today', 'happy', 'today sad', 'bad think', 'boy girl day', 'mom even', 'well', 'way kid', 'love', 'hate', 'no well', 'boy', 'time', 'day', 'well good', 'new', 'no', 'today', 'sad', 'think', 'no think no', 'no', 'no love', 'sad', 'mom', 'first', 'love', 'sad', 'hate', 'good', 'good', 'sad', 'well bad', 'love', 'sad', 'sad', 'hate bad', 'think', 'even', 'well', 'today', 'think even', 'sad day', 'most', 'amazing', 'even girl', 'time sad', 'time', 'good', 'well', 'new', 'think', 'any hate no', 'happy', 'even', 'no well', 'no', 'most amazing think', 'no', 'no', 'love', 'good', 'time', 'yes', 'good', 'today', 'no', 'good', 'first', 'hate', 'today', 'good bad', 'time', 'aww', 'happy', 'good', 'time', 'hate', 'time', 'day', 'time', 'first', 'mom no', 'bad', 'sad good', 'any', 'good', 'sad', 'no', 'think', 'sad', 'any', 'fuck', 'day hate', 'today good', 'think good', 'no', 'bad', 'time', 'think', 'time day', 'no', 'hate', 'day day most', 'new bad', 'think', 'today', 'love day', 'year', 'new', 'most', 'great', 'sad', 'man', 'bad', 'well', 'even', 'today', 'new', 'good', 'hate', 'bad', 'bad new', 'love', 'sad', 'new', 'hate', 'no', 'most amazing person good', 'love hate', 'think', 'hate', 'think think', 'time dad', 'think', 'new even', 'good', 'no', 'sad', 'sucks', 'new', 'even', 'time', 'bad', 'think', 'even', 'think', 'good sucks', 'today', 'love hate bad most no', 'no', 'no', 'good', 'sad', 'hate', 'sad new', 'sad', 'think', 'time', 'hate', 'sad', 'year', 'mom', 'man', 'day', 'great', 'new', 'great', 'aww', 'bad', 'good good day', 'think', 'aww', 'new', 'hate', 'most', 'man amazing', 'fuck', 'even', 'bad', 'hate', 'new', 'no', 'think', 'think', 'think', 'new', 'any', 'new', 'well', 'no', 'yes yes', 'even', 'no', 'love hate', 'most', 'no', 'good', 'good', 'no', 'great', 'sad', 'time', 'happy', 'good', 'time', 'love', 'happy today', 'think', 'no new no', 'no', 'love love', 'no no', 'time', 'no', 'good', 'love today today', 'hate', 'new time', 'hate', 'time', 'sad', 'day', 'good', 'yes', 'today', 'new today first', 'hate', 'no', 'no', 'sad', 'new today', 'new today even', 'bad', 'even', 'today', 'sad', 'mom', 'sad', 'even no', 'no no', 'day', 'man', 'love', 'today', 'any', 'new', 'no', 'even', 'no', 'hate mom', 'bad', 'no sad', 'good bad most', 'no', 'time', 'love', 'new', 'way', 'good', 'hate', 'even', 'new', 'sucks', 'good day', 'well', 'hate', 'even', 'even', 'good', 'no', 'day think sad', 'hate', 'great day', 'day', 'boy well', 'no', 'enjoy', 'love', 'first today', 'well', 'person', 'way no', 'love', 'hate', 'today', 'day', 'hate', 'mom', 'no', 'day dad', 'no', 'no', 'today', 'no', 'way', 'no', 'any', 'any', 'no well', 'bad day today', 'great', 'most', 'even', 'sad', 'today', 'sad', 'time', 'day', 'new day', 'even', 'even bad', 'year', 'bad', 'no', 'woman', 'mom good', 'time great', 'good', 'great', 'aww well hate even', 'no', 'bad', 'great', 'man way', 'amazing', 'hate', 'good', 'love', 'happy', 'good', 'hate', 'good', 'love', 'hate', 'good today', 'happy', 'happy', 'amazing new', 'sucks', 'yes yes good no', 'well', 'sad', 'sad', 'today', 'way', 'yes think', 'love', 'even', 'bad', 'bad time', 'even', 'any', 'today good day', 'good love', 'jesus', 'man', 'time', 'man sucks', 'good', 'sad', 'well', 'think', 'most no', 'day good', 'new', 'new any', 'time hate day', 'sucks', 'new', 'no', 'love', 'no today', 'time', 'no', 'bad', 'man good', 'day happy sad', 'year', 'day', 'day', 'no no think', 'kid sad', 'even', 'day day', 'day', 'sad', 'love', 'bad', 'day', 'mom', 'day', 'even', 'today', 'aww', 'think', 'love', 'no', 'sad', 'no', 'sad', 'day', 'man', 'no', 'most child time', 'mom new', 'no', 'bad', 'well', 'even', 'person', 'girl', 'hate', 'first', 'day', 'no', 'no', 'bad', 'think', 'most', 'today new no', 'bad', 'love', 'sucks', 'good', 'new', 'hate', 'well', 'think even', 'bad', 'think', 'no', 'man', 'today', 'today', 'no good', 'sad', 'today day', 'man', 'sad', 'no', 'dad happy', 'good', 'bad', 'no time', 'great', 'no', 'bad new', 'today', 'bad', 'think way', 'good', 'way', 'love sad', 'well', 'today', 'no', 'sad', 'mom most', 'happy no', 'new', 'well', 'think good good', 'think', 'good', 'bad', 'sucks', 'suck happy', 'happy', 'today', 'good', 'even', 'well sad even', 'no', 'day', 'no', 'hate no', 'well', 'well', 'year today day', 'dad', 'even', 'even', 'new', 'day even', 'day love', 'sad', 'sad', 'think', 'time', 'hate', 'love', 'first', 'day', 'mom any', 'sucks', 'day', 'think', 'well', 'good sad', 'girl', 'great sad', 'no', 'no', 'love', 'no', 'day', 'sad', 'happy', 'hate', 'no', 'no', 'first', 'no', 'man', 'time', 'day', 'no', 'any', 'no', 'day', 'day', 'happy', 'bad love', 'today', 'sad day', 'man', 'day', 'hate', 'any', 'day', 'no day', 'today', 'even', 'day today', 'happy day', 'think', 'day', 'today', 'happy day love', 'no hate', 'no', 'yes', 'happy day dad', 'no', 'happy', 'yesterday bad today', 'bad day', 'love', 'think', 'sad', 'hate', 'sucks', 'no no', 'even', 'think', 'happy', 'dad no yesterday', 'think', 'time new', 'sad sad', 'great', 'think', 'sucks', 'bad', 'sucks', 'no', 'no', 'man', 'good', 'way', 'well', 'way', 'hate', 'no', 'bad', 'even sad', 'sad', 'dad', 'day', 'love sad', 'no', 'day', 'any', 'year', 'well', 'well no', 'no', 'new', 'think', 'yes', 'hate', 'think', 'hate', 'think', 'year', 'well', 'no', 'love think no', 'love love', 'no', 'even', 'even', 'good', 'day', 'time new', 'new', 'think most', 'hate', 'good', 'first', 'day', 'yesterday today', 'love', 'no', 'think time', 'sad', 'good', 'amazing love', 'happy', 'aww dad no', 'new', 'great', 'even', 'no', 'love', 'bad day', 'no', 'sad', 'good', 'bad', 'aww', 'good day', 'no today', 'today think', 'person', 'mom', 'day', 'well no', 'sad', 'no', 'sad', 'woman']\n"
     ]
    }
   ],
   "source": [
    "print(c1[::200])"
   ]
  },
  {
   "cell_type": "code",
   "execution_count": 118,
   "metadata": {},
   "outputs": [],
   "source": [
    "all_c = c1 + c3"
   ]
  },
  {
   "cell_type": "code",
   "execution_count": 119,
   "metadata": {},
   "outputs": [
    {
     "name": "stdout",
     "output_type": "stream",
     "text": [
      "(56329, 40)\n",
      "40\n"
     ]
    }
   ],
   "source": [
    "import numpy as np\n",
    "from sklearn.feature_extraction.text import CountVectorizer\n",
    "vectorizer = CountVectorizer(stop_words={'english'})\n",
    "X = vectorizer.fit_transform(all_c[::10]).toarray()\n",
    "train_words = (vectorizer.get_feature_names())\n",
    "print(X.shape)\n",
    "print(len(train_words))"
   ]
  },
  {
   "cell_type": "code",
   "execution_count": 120,
   "metadata": {},
   "outputs": [
    {
     "name": "stdout",
     "output_type": "stream",
     "text": [
      "1 any 0.03149982573952997 0.02090439494111619\n",
      "2 aww 0.01337314376668531 0.007285130753358015\n",
      "4 boy 0.005831438026149938 0.005632290394576027\n",
      "5 child 0.0014048627653879056 0.0009615249645569214\n",
      "6 dad 0.01022926929171225 0.005758622141744079\n",
      "7 day 0.10235377390685102 0.1114035457109813\n",
      "9 even 0.04322018978222954 0.022785334287841415\n",
      "11 first 0.023102986141801927 0.030923204334587166\n",
      "13 girl 0.011030508157905383 0.012991114667114948\n",
      "18 kid 0.0007293788781937275 0.0011931331676983748\n",
      "19 love 0.0028564345229754326 0.0027266602097107255\n",
      "21 mom 0.016053521319062337 0.011801490714615817\n",
      "22 most 0.013240202788886449 0.009906514507095064\n",
      "23 new 0.012068884984496486 0.014521132493927995\n",
      "24 person 0.054254290939534974 0.09198705801431901\n",
      "26 suck 0.005996715998548521 0.0058182788001289905\n",
      "31 way 0.07480984050673561 0.06362558077513052\n",
      "32 well 0.07528770942693125 0.07969076795664504\n",
      "33 woman 0.07606379729732247 0.053996294268763345\n",
      "34 year 0.035836576015292804 0.03536236156146673\n",
      "35 yesterday 0.044448995577019 0.051504751477392155\n",
      "3 bad 0.06442966524024431 0.014415856037954628\n",
      "12 fuck 0.009402879429719319 0.004246150390926585\n",
      "17 jesus 0.060599527879880606 0.008664252326609263\n",
      "25 pleased 0.1667834391471291 0.06456254123329187\n",
      "28 think 0.07433556458594082 0.0036495838070774275\n",
      "29 time 0.006377573934945254 0.0017124970171670882\n",
      "30 today 0.020997488493419973 0.0016774048651759595\n",
      "0 amazing 0.005935635008749044 0.020662259092377278\n",
      "8 enjoy 0.0054326150927533545 0.01801982004744434\n",
      "10 excellent 0.0004958339171957359 0.0023160820314145135\n",
      "14 good 0.0854199677348257 0.18806937016611316\n",
      "15 great 0.022075388313410733 0.07397776561249818\n",
      "16 hate 0.0195351377376325 0.06362908999032922\n",
      "20 man 0.05591425666232075 0.15643730436124373\n",
      "27 sucks 0.00042038092979638483 0.001273845117277972\n"
     ]
    }
   ],
   "source": [
    "x1 = vectorizer.transform(c1); m1 = x1.mean(axis=0).flatten()\n",
    "x3 = vectorizer.transform(c3); m3 = x3.mean(axis=0).flatten()\n",
    "len(m1)\n",
    "for iw, w in enumerate(words):\n",
    "    if m1[0, iw] / m3[0, iw] < 2 and m3[0, iw] / m1[0, iw] < 2:\n",
    "        print(iw, w, m1[0, iw], m3[0, iw])\n",
    "        \n",
    "for iw, w in enumerate(words):\n",
    "    if m1[0, iw] / m3[0, iw] > 2:\n",
    "        print(iw, w, m1[0, iw], m3[0, iw])\n",
    "\n",
    "for iw, w in enumerate(words):\n",
    "    if m3[0, iw] / m1[0, iw] > 2:\n",
    "        print(iw, w, m1[0, iw], m3[0, iw])"
   ]
  },
  {
   "cell_type": "code",
   "execution_count": 121,
   "metadata": {},
   "outputs": [],
   "source": [
    "test1 = \"this is fucking great\"\n",
    "test2 = \"this is the most amazing news i've heard in a while, i am so happy\"\n",
    "test3 = \"i am so sad this is bad news\""
   ]
  },
  {
   "cell_type": "code",
   "execution_count": 124,
   "metadata": {},
   "outputs": [],
   "source": [
    "def classify(st, m1, m3, vocabulary):\n",
    "    words = st.split(' ')\n",
    "    prob1, prob2 = 1, 1\n",
    "    for w in words:\n",
    "        if w in train_words:\n",
    "            prob1 *= m1[0, vocabulary.index(w)]\n",
    "            prob2 *= m3[0, vocabulary.index(w)]\n",
    "            print(m1[0, vocabulary.index(w)], m3[0, vocabulary.index(w)], w)\n",
    "    return prob1, prob2"
   ]
  },
  {
   "cell_type": "code",
   "execution_count": 125,
   "metadata": {},
   "outputs": [
    {
     "name": "stdout",
     "output_type": "stream",
     "text": [
      "0.07433556458594082 0.0036495838070774275 sad\n",
      "0.06442966524024431 0.014415856037954628 bad\n"
     ]
    },
    {
     "data": {
      "text/plain": [
       "(0.004789415541716727, 5.261187476127857e-05)"
      ]
     },
     "execution_count": 125,
     "metadata": {},
     "output_type": "execute_result"
    }
   ],
   "source": [
    "classify(test3, m1, m3, train_words)"
   ]
  },
  {
   "cell_type": "code",
   "execution_count": null,
   "metadata": {},
   "outputs": [],
   "source": []
  }
 ],
 "metadata": {
  "kernelspec": {
   "display_name": "Python 3",
   "language": "python",
   "name": "python3"
  },
  "language_info": {
   "codemirror_mode": {
    "name": "ipython",
    "version": 3
   },
   "file_extension": ".py",
   "mimetype": "text/x-python",
   "name": "python",
   "nbconvert_exporter": "python",
   "pygments_lexer": "ipython3",
   "version": "3.9.6"
  }
 },
 "nbformat": 4,
 "nbformat_minor": 4
}
