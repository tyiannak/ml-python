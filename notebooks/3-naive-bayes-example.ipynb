{
 "cells": [
  {
   "cell_type": "code",
   "execution_count": 1,
   "metadata": {},
   "outputs": [],
   "source": [
    "data_file = \"training.1600000.processed.noemoticon.csv\"\n",
    "from csv import reader\n",
    "# open file in read mode\n",
    "count = 0\n",
    "pos = []\n",
    "#c2 = []\n",
    "neg = []\n",
    "\n",
    "words_to_use = [\"love\", \"hate\", \"aww\", \"bad\", \"good\", \"great\", \"fuck\", \"jesus\", \"sucks\", \"suck\", \"pleased\", \n",
    "                \"fanntastic\", \"amazing\", \"enjoy\", \"excellent\", \"day\", \"today\", \"yesterday\", \"dad\", \"mom\",\n",
    "                \"kid\", \"child\", \"year\", \"think\", \"way\", \"first\", \"well\", \"even\", \"new\", \"any\", \"most\", \"man\", \"boy\",\n",
    "                \"woman\", \"girl\", \"time\", \"person\", \"sad\", \"happy\", \"yes\", \"no\", \"well\", \"yea\", \"yeah\", \"hell\", \"sure\",\n",
    "               \"ok\", \"wife\", \"husband\", \"kill\", \"ill\", \"sick\", \"illness\", \"sickness\", \"death\", \"virus\", \"dead\", \"killed\", \n",
    "               \"accident\"]\n",
    "\n",
    "with open(data_file, 'r', encoding='mac_roman') as read_obj:\n",
    "    # pass the file object to reader() to get the reader object\n",
    "    csv_reader = reader(read_obj)\n",
    "    # Iterate over each row in the csv using reader object\n",
    "    for row in csv_reader:\n",
    "        st = ([s.strip().lower() for s in row])\n",
    "        cur_str = []\n",
    "        found = False\n",
    "        for w in st[-1].split(' '):\n",
    "            if len(w) > 0:\n",
    "                if w in words_to_use:\n",
    "                    found = True\n",
    "                    if w[0] not in ['@']:\n",
    "                        cur_str.append(w.replace(\"!\", \"\").replace(\"?\", \"\").replace(\".\", \"\"))\n",
    "\n",
    "        if found:\n",
    "            if (st[0]) == '0':\n",
    "                neg.append(\" \".join(cur_str))\n",
    "#            if (st[0]) == '2':\n",
    "#                c2.append(\" \".join(cur_str))\n",
    "            if (st[0]) == '4':\n",
    "                pos.append(\" \".join(cur_str))"
   ]
  },
  {
   "cell_type": "code",
   "execution_count": 25,
   "metadata": {},
   "outputs": [
    {
     "name": "stdout",
     "output_type": "stream",
     "text": [
      "(604386, 57)\n",
      "57\n"
     ]
    }
   ],
   "source": [
    "import numpy as np\n",
    "from sklearn.feature_extraction.text import CountVectorizer\n",
    "vectorizer = CountVectorizer(stop_words={'english'})\n",
    "X = vectorizer.fit_transform(neg + pos).toarray()\n",
    "train_words = (vectorizer.get_feature_names())\n",
    "p_y1 = len(neg) / (len(pos) + len(neg))\n",
    "p_y2 = len(pos) / (len(pos) + len(neg))\n",
    "print(X.shape)\n",
    "print(len(train_words))"
   ]
  },
  {
   "cell_type": "code",
   "execution_count": null,
   "metadata": {},
   "outputs": [],
   "source": [
    "x1 = vectorizer.transform(neg)\n",
    "m1 = x1.mean(axis=0).flatten()\n",
    "x2 = vectorizer.transform(pos)\n",
    "m2 = x2.mean(axis=0).flatten()\n",
    "\n",
    "print(\"Neutral words\")\n",
    "for iw, w in enumerate(train_words):\n",
    "    if m1[0, iw] / m2[0, iw] < 2 and m2[0, iw] / m1[0, iw] < 2:\n",
    "        print(iw, w, m1[0, iw], m2[0, iw])\n",
    "print(\"Negative words\")\n",
    "for iw, w in enumerate(train_words):\n",
    "    if m1[0, iw] / m2[0, iw] > 2:\n",
    "        print(iw, w, m1[0, iw], m2[0, iw])\n",
    "print(\"Positive words\")\n",
    "for iw, w in enumerate(train_words):\n",
    "    if m2[0, iw] / m1[0, iw] > 2:\n",
    "        print(iw, w, m1[0, iw], m2[0, iw])"
   ]
  },
  {
   "cell_type": "code",
   "execution_count": null,
   "metadata": {},
   "outputs": [],
   "source": [
    "def classify(st, f_class1, f_class2, vocabulary, prior1, prior2):\n",
    "    words = st.split(' ')\n",
    "    prob1, prob2 = prior1, prior2\n",
    "    for w in words:\n",
    "        w2 = w\n",
    "        w2 = w2.replace(\"!\", \"\").replace(\"?\", \"\").replace(\".\", \"\").replace(\",\", \"\")\n",
    "        if w2 in train_words:\n",
    "            prob1 *= f_class1[0, vocabulary.index(w2)]\n",
    "            prob2 *= f_class2[0, vocabulary.index(w2)]\n",
    "    probs = np.array([prob1, prob2])\n",
    "    probs /= probs.sum()\n",
    "    return probs"
   ]
  },
  {
   "cell_type": "code",
   "execution_count": null,
   "metadata": {},
   "outputs": [],
   "source": [
    "p = classify(\"ok\", m1, m2, train_words, p_y1, p_y2)\n",
    "print(np.argmax(p), p[np.argmax(p)])"
   ]
  },
  {
   "cell_type": "code",
   "execution_count": null,
   "metadata": {},
   "outputs": [],
   "source": [
    "p = classify(\"i am so sad this is bad news\", m1, m2, train_words, p_y1, p_y2)\n",
    "print(np.argmax(p), p[np.argmax(p)])"
   ]
  },
  {
   "cell_type": "code",
   "execution_count": 261,
   "metadata": {},
   "outputs": [
    {
     "name": "stdout",
     "output_type": "stream",
     "text": [
      "1 0.9803830890487799\n"
     ]
    }
   ],
   "source": [
    "p = classify(\"this is fucking great. this is the most amazing news i've heard in a while, i am so happy\", m1, m2, train_words, p_y1, p_y2)\n",
    "print(np.argmax(p), p[np.argmax(p)])"
   ]
  },
  {
   "cell_type": "code",
   "execution_count": 24,
   "metadata": {},
   "outputs": [
    {
     "name": "stdout",
     "output_type": "stream",
     "text": [
      "0 0.5003309143494389\n"
     ]
    }
   ],
   "source": [
    "p = classify(\"daskhj adsjkh \", m1, m2, train_words, p_y1, p_y2)\n",
    "print(np.argmax(p), p[np.argmax(p)])"
   ]
  },
  {
   "cell_type": "code",
   "execution_count": 10,
   "metadata": {},
   "outputs": [
    {
     "data": {
      "text/plain": [
       "(301993, 302393)"
      ]
     },
     "execution_count": 10,
     "metadata": {},
     "output_type": "execute_result"
    }
   ],
   "source": [
    "len(neg), len(pos)"
   ]
  },
  {
   "cell_type": "code",
   "execution_count": null,
   "metadata": {},
   "outputs": [],
   "source": []
  }
 ],
 "metadata": {
  "kernelspec": {
   "display_name": "Python 3",
   "language": "python",
   "name": "python3"
  },
  "language_info": {
   "codemirror_mode": {
    "name": "ipython",
    "version": 3
   },
   "file_extension": ".py",
   "mimetype": "text/x-python",
   "name": "python",
   "nbconvert_exporter": "python",
   "pygments_lexer": "ipython3",
   "version": "3.9.6"
  }
 },
 "nbformat": 4,
 "nbformat_minor": 4
}
