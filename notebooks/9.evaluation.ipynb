{
 "cells": [
  {
   "cell_type": "code",
   "execution_count": 10,
   "metadata": {},
   "outputs": [
    {
     "name": "stdout",
     "output_type": "stream",
     "text": [
      "[[10  2  1]\n",
      " [ 2  5  4]\n",
      " [ 6  2 15]]\n",
      "              precision    recall  f1-score   support\n",
      "\n",
      "           a       0.56      0.77      0.65        13\n",
      "           b       0.56      0.45      0.50        11\n",
      "           c       0.75      0.65      0.70        23\n",
      "\n",
      "    accuracy                           0.64        47\n",
      "   macro avg       0.62      0.63      0.61        47\n",
      "weighted avg       0.65      0.64      0.64        47\n",
      "\n",
      "0.6382978723404256\n",
      "0.6142785696424106\n"
     ]
    }
   ],
   "source": [
    "from sklearn import metrics\n",
    "\n",
    "y_true = ['a','a','a','a','a','a','a','a','a','a','a','a','a','b','b','b','b','b','b','b','b','b','b','b','c','c','c','c','c','c','c','c','c','c','c','c','c','c','c','c','c','c','c','c','c','c','c']\n",
    "y_pred = ['a','a','a','a','a','a','a','a','a','a','b','b','c','a','a','b','b','b','b','b','c','c','c','c','a','a','a','a','a','a','c','c','c','c','c','b','b','c','c','c','c','c','c','c','c','c','c']\n",
    "\n",
    "print(metrics.confusion_matrix(y_true, y_pred))\n",
    "\n",
    "print(metrics.classification_report(y_true, y_pred))\n",
    "\n",
    "print(metrics.f1_score(y_true, y_pred, average='micro'))\n",
    "print(metrics.f1_score(y_true, y_pred, average='macro'))"
   ]
  },
  {
   "cell_type": "code",
   "execution_count": null,
   "metadata": {},
   "outputs": [],
   "source": []
  }
 ],
 "metadata": {
  "kernelspec": {
   "display_name": "Python 3",
   "language": "python",
   "name": "python3"
  },
  "language_info": {
   "codemirror_mode": {
    "name": "ipython",
    "version": 3
   },
   "file_extension": ".py",
   "mimetype": "text/x-python",
   "name": "python",
   "nbconvert_exporter": "python",
   "pygments_lexer": "ipython3",
   "version": "3.7.3"
  }
 },
 "nbformat": 4,
 "nbformat_minor": 4
}
