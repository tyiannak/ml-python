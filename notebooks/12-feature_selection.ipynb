{
 "cells": [
  {
   "cell_type": "markdown",
   "id": "be4af99f",
   "metadata": {},
   "source": [
    "# Feature selection example\n",
    "## Extract audio features \n",
    "Use `pyAudioAnalysis` library to extract audio features for all WAV files in folders `audio\\music` and `audio\\speech`. Use a cache pkl file to store audio features so that they not computed every time this notebook is executed. "
   ]
  },
  {
   "cell_type": "code",
   "execution_count": 6,
   "id": "5a79ef30",
   "metadata": {},
   "outputs": [
    {
     "name": "stdout",
     "output_type": "stream",
     "text": [
      "(40, 138)\n"
     ]
    }
   ],
   "source": [
    "import os\n",
    "from pyAudioAnalysis import MidTermFeatures as mtf\n",
    "from pyAudioAnalysis import audioTrainTest as at\n",
    "import numpy as np\n",
    "import pickle\n",
    "import os.path\n",
    "\n",
    "if os.path.isfile('data2.pkl'):\n",
    "    # if features already calcualted --> load\n",
    "    with open('data2.pkl','rb') as f:\n",
    "        X = pickle.load(f)\n",
    "        y = pickle.load(f)\n",
    "else:\n",
    "    with open('data2.pkl','wb') as f:\n",
    "        # if features not already calculated: extract features from scratch\n",
    "        dirs = ['audio/music', 'audio/speech']\n",
    "        # extract features from directories of WAV files:\n",
    "        f1, _, feature_names = mtf.directory_feature_extraction(dirs[0], 1, 1, 0.1, 0.1)\n",
    "        f2, _, feature_names = mtf.directory_feature_extraction(dirs[1], 1, 1, 0.1, 0.1)\n",
    "        mid_term_features = [f1, f2]\n",
    "        # convert list of feature matrices to x, y format:\n",
    "        x, y = at.features_to_matrix(mid_term_features)\n",
    "        m = x.mean(axis=0)\n",
    "        s = np.std(x, axis = 0)\n",
    "        X = (x - m) / s\n",
    "        pickle.dump(X, f)\n",
    "        pickle.dump(y, f)\n",
    "print(X.shape)"
   ]
  },
  {
   "cell_type": "markdown",
   "id": "15611461",
   "metadata": {},
   "source": [
    "## Feature selection"
   ]
  },
  {
   "cell_type": "code",
   "execution_count": 10,
   "id": "a85951f0",
   "metadata": {},
   "outputs": [
    {
     "data": {
      "text/plain": [
       "['zcr_mean',\n",
       " 'energy_mean',\n",
       " 'energy_entropy_mean',\n",
       " 'spectral_centroid_mean',\n",
       " 'spectral_entropy_mean',\n",
       " 'spectral_rolloff_mean',\n",
       " 'mfcc_1_mean',\n",
       " 'mfcc_2_mean',\n",
       " 'mfcc_3_mean',\n",
       " 'mfcc_4_mean',\n",
       " 'mfcc_5_mean',\n",
       " 'mfcc_6_mean',\n",
       " 'mfcc_8_mean',\n",
       " 'mfcc_10_mean',\n",
       " 'mfcc_12_mean',\n",
       " 'chroma_1_mean',\n",
       " 'chroma_3_mean',\n",
       " 'chroma_6_mean',\n",
       " 'chroma_7_mean',\n",
       " 'chroma_10_mean',\n",
       " 'chroma_11_mean',\n",
       " 'chroma_std_mean',\n",
       " 'delta mfcc_6_mean',\n",
       " 'delta mfcc_9_mean',\n",
       " 'delta chroma_11_mean',\n",
       " 'zcr_std',\n",
       " 'energy_std',\n",
       " 'energy_entropy_std',\n",
       " 'spectral_centroid_std',\n",
       " 'spectral_spread_std',\n",
       " 'spectral_entropy_std',\n",
       " 'spectral_rolloff_std',\n",
       " 'mfcc_1_std',\n",
       " 'mfcc_2_std',\n",
       " 'mfcc_3_std',\n",
       " 'mfcc_4_std',\n",
       " 'mfcc_5_std',\n",
       " 'mfcc_6_std',\n",
       " 'mfcc_7_std',\n",
       " 'mfcc_10_std',\n",
       " 'chroma_3_std',\n",
       " 'chroma_5_std',\n",
       " 'chroma_6_std',\n",
       " 'chroma_7_std',\n",
       " 'delta zcr_std',\n",
       " 'delta energy_std',\n",
       " 'delta energy_entropy_std',\n",
       " 'delta spectral_centroid_std',\n",
       " 'delta spectral_entropy_std',\n",
       " 'delta spectral_rolloff_std',\n",
       " 'delta mfcc_1_std',\n",
       " 'delta mfcc_3_std',\n",
       " 'delta mfcc_4_std',\n",
       " 'delta mfcc_6_std',\n",
       " 'delta mfcc_10_std',\n",
       " 'delta mfcc_11_std',\n",
       " 'delta chroma_5_std',\n",
       " 'delta chroma_6_std',\n",
       " 'delta chroma_7_std',\n",
       " 'bpm']"
      ]
     },
     "execution_count": 10,
     "metadata": {},
     "output_type": "execute_result"
    }
   ],
   "source": [
    "from sklearn.feature_selection import SelectFromModel\n",
    "from sklearn.linear_model import LogisticRegression\n",
    "from itertools import compress\n",
    "sfm_selector = SelectFromModel(estimator=LogisticRegression())\n",
    "sfm_selector.fit(X, y)\n",
    "list_of_selected_features = list(compress(feature_names, sfm_selector.get_support().tolist()))"
   ]
  },
  {
   "cell_type": "code",
   "execution_count": 9,
   "id": "74fc984a",
   "metadata": {},
   "outputs": [
    {
     "data": {
      "text/plain": [
       "['zcr_mean',\n",
       " 'energy_mean',\n",
       " 'energy_entropy_mean',\n",
       " 'spectral_centroid_mean',\n",
       " 'spectral_entropy_mean',\n",
       " 'spectral_rolloff_mean',\n",
       " 'mfcc_1_mean',\n",
       " 'mfcc_2_mean',\n",
       " 'mfcc_3_mean',\n",
       " 'mfcc_4_mean',\n",
       " 'mfcc_5_mean',\n",
       " 'mfcc_6_mean',\n",
       " 'mfcc_8_mean',\n",
       " 'mfcc_10_mean',\n",
       " 'mfcc_12_mean',\n",
       " 'chroma_1_mean',\n",
       " 'chroma_3_mean',\n",
       " 'chroma_6_mean',\n",
       " 'chroma_7_mean',\n",
       " 'chroma_10_mean',\n",
       " 'chroma_11_mean',\n",
       " 'chroma_std_mean',\n",
       " 'delta mfcc_6_mean',\n",
       " 'delta mfcc_9_mean',\n",
       " 'delta chroma_11_mean',\n",
       " 'zcr_std',\n",
       " 'energy_std',\n",
       " 'energy_entropy_std',\n",
       " 'spectral_centroid_std',\n",
       " 'spectral_spread_std',\n",
       " 'spectral_entropy_std',\n",
       " 'spectral_rolloff_std',\n",
       " 'mfcc_1_std',\n",
       " 'mfcc_2_std',\n",
       " 'mfcc_3_std',\n",
       " 'mfcc_4_std',\n",
       " 'mfcc_5_std',\n",
       " 'mfcc_6_std',\n",
       " 'mfcc_7_std',\n",
       " 'mfcc_10_std',\n",
       " 'chroma_3_std',\n",
       " 'chroma_5_std',\n",
       " 'chroma_6_std',\n",
       " 'chroma_7_std',\n",
       " 'delta zcr_std',\n",
       " 'delta energy_std',\n",
       " 'delta energy_entropy_std',\n",
       " 'delta spectral_centroid_std',\n",
       " 'delta spectral_entropy_std',\n",
       " 'delta spectral_rolloff_std',\n",
       " 'delta mfcc_1_std',\n",
       " 'delta mfcc_3_std',\n",
       " 'delta mfcc_4_std',\n",
       " 'delta mfcc_6_std',\n",
       " 'delta mfcc_10_std',\n",
       " 'delta mfcc_11_std',\n",
       " 'delta chroma_5_std',\n",
       " 'delta chroma_6_std',\n",
       " 'delta chroma_7_std',\n",
       " 'bpm']"
      ]
     },
     "execution_count": 9,
     "metadata": {},
     "output_type": "execute_result"
    }
   ],
   "source": [
    "\n"
   ]
  },
  {
   "cell_type": "code",
   "execution_count": null,
   "id": "2782a53c",
   "metadata": {},
   "outputs": [],
   "source": []
  }
 ],
 "metadata": {
  "kernelspec": {
   "display_name": "Python 3 (ipykernel)",
   "language": "python",
   "name": "python3"
  },
  "language_info": {
   "codemirror_mode": {
    "name": "ipython",
    "version": 3
   },
   "file_extension": ".py",
   "mimetype": "text/x-python",
   "name": "python",
   "nbconvert_exporter": "python",
   "pygments_lexer": "ipython3",
   "version": "3.9.13"
  }
 },
 "nbformat": 4,
 "nbformat_minor": 5
}
