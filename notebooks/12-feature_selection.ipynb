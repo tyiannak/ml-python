{
 "cells": [
  {
   "cell_type": "markdown",
   "id": "be4af99f",
   "metadata": {},
   "source": [
    "# Feature selection example\n",
    "## Extract audio features \n",
    "Use `pyAudioAnalysis` library to extract audio features for all WAV files in folders `audio\\music` and `audio\\speech`. Use a cache pkl file to store audio features so that they not computed every time this notebook is executed. "
   ]
  },
  {
   "cell_type": "code",
   "execution_count": 11,
   "id": "5a79ef30",
   "metadata": {},
   "outputs": [
    {
     "name": "stdout",
     "output_type": "stream",
     "text": [
      "(40, 138)\n"
     ]
    }
   ],
   "source": [
    "import os\n",
    "from pyAudioAnalysis import MidTermFeatures as mtf\n",
    "from pyAudioAnalysis import audioTrainTest as at\n",
    "import numpy as np\n",
    "import pickle\n",
    "import os.path\n",
    "\n",
    "if os.path.isfile('data2.pkl'):\n",
    "    # if features already calcualted --> load\n",
    "    with open('data2.pkl','rb') as f:\n",
    "        X = pickle.load(f)\n",
    "        y = pickle.load(f)\n",
    "        mid_term_features = pickle.load(f)\n",
    "        feature_names = pickle.load(f)\n",
    "else:\n",
    "    with open('data2.pkl','wb') as f:\n",
    "        # if features not already calculated: extract features from scratch\n",
    "        dirs = ['audio/music', 'audio/speech']\n",
    "        # extract features from directories of WAV files:\n",
    "        f1, _, feature_names = mtf.directory_feature_extraction(dirs[0], 1, 1, 0.1, 0.1)\n",
    "        f2, _, feature_names = mtf.directory_feature_extraction(dirs[1], 1, 1, 0.1, 0.1)\n",
    "        mid_term_features = [f1, f2]\n",
    "        # convert list of feature matrices to x, y format:\n",
    "        x, y = at.features_to_matrix(mid_term_features)\n",
    "        m = x.mean(axis=0)\n",
    "        s = np.std(x, axis = 0)\n",
    "        X = (x - m) / s\n",
    "        pickle.dump(X, f)\n",
    "        pickle.dump(y, f)\n",
    "        pickle.dump(mid_term_features, f)\n",
    "        pickle.dump(feature_names, f)\n",
    "print(X.shape)"
   ]
  },
  {
   "cell_type": "markdown",
   "id": "15611461",
   "metadata": {},
   "source": [
    "## Feature selection"
   ]
  },
  {
   "cell_type": "code",
   "execution_count": 12,
   "id": "a85951f0",
   "metadata": {},
   "outputs": [
    {
     "name": "stdout",
     "output_type": "stream",
     "text": [
      "['zcr_mean', 'energy_mean', 'energy_entropy_mean', 'spectral_centroid_mean', 'spectral_entropy_mean', 'spectral_rolloff_mean', 'mfcc_1_mean', 'mfcc_2_mean', 'mfcc_3_mean', 'mfcc_4_mean', 'mfcc_5_mean', 'mfcc_6_mean', 'mfcc_8_mean', 'mfcc_10_mean', 'mfcc_12_mean', 'chroma_1_mean', 'chroma_3_mean', 'chroma_6_mean', 'chroma_7_mean', 'chroma_10_mean', 'chroma_11_mean', 'chroma_std_mean', 'delta mfcc_6_mean', 'delta mfcc_9_mean', 'delta chroma_11_mean', 'zcr_std', 'energy_std', 'energy_entropy_std', 'spectral_centroid_std', 'spectral_spread_std', 'spectral_entropy_std', 'spectral_rolloff_std', 'mfcc_1_std', 'mfcc_2_std', 'mfcc_3_std', 'mfcc_4_std', 'mfcc_5_std', 'mfcc_6_std', 'mfcc_7_std', 'mfcc_10_std', 'chroma_3_std', 'chroma_5_std', 'chroma_6_std', 'chroma_7_std', 'delta zcr_std', 'delta energy_std', 'delta energy_entropy_std', 'delta spectral_centroid_std', 'delta spectral_entropy_std', 'delta spectral_rolloff_std', 'delta mfcc_1_std', 'delta mfcc_3_std', 'delta mfcc_4_std', 'delta mfcc_6_std', 'delta mfcc_10_std', 'delta mfcc_11_std', 'delta chroma_5_std', 'delta chroma_6_std', 'delta chroma_7_std', 'bpm']\n"
     ]
    }
   ],
   "source": [
    "from sklearn.feature_selection import SelectFromModel\n",
    "from sklearn.linear_model import LogisticRegression\n",
    "from itertools import compress\n",
    "sfm_selector = SelectFromModel(estimator=LogisticRegression())\n",
    "sfm_selector.fit(X, y)\n",
    "list_of_selected_features = list(compress(feature_names, sfm_selector.get_support().tolist()))\n",
    "print(list_of_selected_features)"
   ]
  },
  {
   "cell_type": "code",
   "execution_count": 25,
   "id": "74fc984a",
   "metadata": {},
   "outputs": [
    {
     "name": "stdout",
     "output_type": "stream",
     "text": [
      "Less important features:\n",
      "['delta spectral_centroid_mean', 'delta chroma_2_mean', 'mfcc_7_mean', 'delta chroma_3_mean', 'chroma_12_std']\n",
      "Most important features:\n",
      "['energy_entropy_mean', 'mfcc_8_mean', 'mfcc_12_mean', 'energy_entropy_std', 'mfcc_1_std']\n"
     ]
    }
   ],
   "source": [
    "from sklearn.linear_model import LogisticRegression\n",
    "#from sklearn.tree import DecisionTreeRegressor\n",
    "# define the model\n",
    "model = LogisticRegression()\n",
    "#model = DecisionTreeRegressor()\n",
    "# fit the model\n",
    "model.fit(X, y)\n",
    "# get importance\n",
    "importance = model.coef_\n",
    "#importance = model.feature_importances_\n",
    "#imp_features = [f for i_f, f in enumerate(feature_names) if abs(importance[0][i_f]) < 0.05]\n",
    "importance = np.abs(importance[0])\n",
    "feature_names_s = [feature_names[f] for f in importance.argsort()]\n",
    "less_important_5 = feature_names_s[:5]\n",
    "most_important_5 = feature_names_s[:-6:-1]\n",
    "print(\"Less important features:\")\n",
    "print(less_important_5)\n",
    "print(\"Most important features:\")\n",
    "print(most_important_5)"
   ]
  },
  {
   "cell_type": "code",
   "execution_count": 34,
   "id": "2782a53c",
   "metadata": {},
   "outputs": [
    {
     "data": {
      "application/vnd.plotly.v1+json": {
       "config": {
        "plotlyServerURL": "https://plot.ly"
       },
       "data": [
        {
         "marker": {
          "color": "rgba(0.0,0.48823529411764705,1.0,1.0)",
          "line": {
           "color": "rgba(0.0,0.48823529411764705,1.0,1.0)",
           "width": 3
          }
         },
         "name": "music",
         "showlegend": false,
         "type": "scatter",
         "x": [
          -0.6061893026824556,
          -0.5161456783939704,
          -0.42610205410548535,
          -0.33605842981700024,
          -0.24601480552851512,
          -0.15597118124003,
          -0.0659275569515449,
          0.024116067336940217,
          0.11415969162542533,
          0.20420331591391044,
          0.29424694020239556
         ],
         "xaxis": "x",
         "y": [
          0,
          0,
          0,
          0.10526315789473684,
          0.05263157894736842,
          0.10526315789473684,
          0.21052631578947367,
          0.21052631578947367,
          0.15789473684210525,
          0.10526315789473684,
          0.05263157894736842
         ],
         "yaxis": "y"
        },
        {
         "marker": {
          "color": "rgba(1.0,0.6107480029048659,0.0,1.0)",
          "line": {
           "color": "rgba(1.0,0.6107480029048659,0.0,1.0)",
           "width": 3
          }
         },
         "name": "speech",
         "showlegend": false,
         "type": "scatter",
         "x": [
          -0.6061893026824556,
          -0.5161456783939704,
          -0.42610205410548535,
          -0.33605842981700024,
          -0.24601480552851512,
          -0.15597118124003,
          -0.0659275569515449,
          0.024116067336940217,
          0.11415969162542533,
          0.20420331591391044,
          0.29424694020239556
         ],
         "xaxis": "x",
         "y": [
          0.05555555555555555,
          0,
          0.1111111111111111,
          0.05555555555555555,
          0.1111111111111111,
          0.16666666666666666,
          0.1111111111111111,
          0.2777777777777778,
          0.05555555555555555,
          0,
          0.05555555555555555
         ],
         "yaxis": "y"
        },
        {
         "marker": {
          "color": "rgba(0.0,0.48823529411764705,1.0,1.0)",
          "line": {
           "color": "rgba(0.0,0.48823529411764705,1.0,1.0)",
           "width": 3
          }
         },
         "name": "music",
         "showlegend": false,
         "type": "scatter",
         "x": [
          -0.029885412009665744,
          -0.025587179607221466,
          -0.021288947204777187,
          -0.01699071480233291,
          -0.01269248239988863,
          -0.008394249997444352,
          -0.004096017595000074,
          0.00020221480744420442,
          0.004500447209888483,
          0.008798679612332761,
          0.01309691201477704
         ],
         "xaxis": "x2",
         "y": [
          0,
          0,
          0,
          0,
          0,
          0.15,
          0.1,
          0.45,
          0.25,
          0.05,
          0
         ],
         "yaxis": "y2"
        },
        {
         "marker": {
          "color": "rgba(1.0,0.6107480029048659,0.0,1.0)",
          "line": {
           "color": "rgba(1.0,0.6107480029048659,0.0,1.0)",
           "width": 3
          }
         },
         "name": "speech",
         "showlegend": false,
         "type": "scatter",
         "x": [
          -0.029885412009665744,
          -0.025587179607221466,
          -0.021288947204777187,
          -0.01699071480233291,
          -0.01269248239988863,
          -0.008394249997444352,
          -0.004096017595000074,
          0.00020221480744420442,
          0.004500447209888483,
          0.008798679612332761,
          0.01309691201477704
         ],
         "xaxis": "x2",
         "y": [
          0.05555555555555555,
          0.05555555555555555,
          0,
          0.16666666666666666,
          0.16666666666666666,
          0.1111111111111111,
          0.16666666666666666,
          0,
          0.2222222222222222,
          0.05555555555555555,
          0
         ],
         "yaxis": "y2"
        },
        {
         "marker": {
          "color": "rgba(0.0,0.48823529411764705,1.0,1.0)",
          "line": {
           "color": "rgba(0.0,0.48823529411764705,1.0,1.0)",
           "width": 3
          }
         },
         "name": "music",
         "showlegend": false,
         "type": "scatter",
         "x": [
          -0.015516490411518882,
          -0.013787403393032614,
          -0.012058316374546341,
          -0.010329229356060073,
          -0.0086001423375738,
          -0.006871055319087531,
          -0.00514196830060126,
          -0.0034128812821149898,
          -0.0016837942636287193,
          4.5292754857551194e-05,
          0.0017743797733438208
         ],
         "xaxis": "x3",
         "y": [
          0.05263157894736842,
          0,
          0,
          0,
          0,
          0,
          0,
          0,
          0,
          0.8947368421052632,
          0.05263157894736842
         ],
         "yaxis": "y3"
        },
        {
         "marker": {
          "color": "rgba(1.0,0.6107480029048659,0.0,1.0)",
          "line": {
           "color": "rgba(1.0,0.6107480029048659,0.0,1.0)",
           "width": 3
          }
         },
         "name": "speech",
         "showlegend": false,
         "type": "scatter",
         "x": [
          -0.015516490411518882,
          -0.013787403393032614,
          -0.012058316374546341,
          -0.010329229356060073,
          -0.0086001423375738,
          -0.006871055319087531,
          -0.00514196830060126,
          -0.0034128812821149898,
          -0.0016837942636287193,
          4.5292754857551194e-05,
          0.0017743797733438208
         ],
         "xaxis": "x3",
         "y": [
          0,
          0,
          0,
          0,
          0,
          0.05263157894736842,
          0,
          0,
          0.15789473684210525,
          0.631578947368421,
          0.15789473684210525
         ],
         "yaxis": "y3"
        },
        {
         "marker": {
          "color": "rgba(0.0,0.48823529411764705,1.0,1.0)",
          "line": {
           "color": "rgba(0.0,0.48823529411764705,1.0,1.0)",
           "width": 3
          }
         },
         "name": "music",
         "showlegend": false,
         "type": "scatter",
         "x": [
          -0.015429582313312887,
          -0.012561374951628262,
          -0.009693167589943638,
          -0.006824960228259014,
          -0.0039567528665743895,
          -0.0010885455048897652,
          0.0017796618567948591,
          0.004647869218479483,
          0.007516076580164108,
          0.010384283941848732,
          0.013252491303533356
         ],
         "xaxis": "x4",
         "y": [
          0.10526315789473684,
          0,
          0,
          0.05263157894736842,
          0.10526315789473684,
          0.47368421052631576,
          0.05263157894736842,
          0.15789473684210525,
          0,
          0,
          0.05263157894736842
         ],
         "yaxis": "y4"
        },
        {
         "marker": {
          "color": "rgba(1.0,0.6107480029048659,0.0,1.0)",
          "line": {
           "color": "rgba(1.0,0.6107480029048659,0.0,1.0)",
           "width": 3
          }
         },
         "name": "speech",
         "showlegend": false,
         "type": "scatter",
         "x": [
          -0.015429582313312887,
          -0.012561374951628262,
          -0.009693167589943638,
          -0.006824960228259014,
          -0.0039567528665743895,
          -0.0010885455048897652,
          0.0017796618567948591,
          0.004647869218479483,
          0.007516076580164108,
          0.010384283941848732,
          0.013252491303533356
         ],
         "xaxis": "x4",
         "y": [
          0,
          0,
          0,
          0,
          0.05,
          0.6,
          0.3,
          0,
          0,
          0,
          0.05
         ],
         "yaxis": "y4"
        },
        {
         "marker": {
          "color": "rgba(0.0,0.48823529411764705,1.0,1.0)",
          "line": {
           "color": "rgba(0.0,0.48823529411764705,1.0,1.0)",
           "width": 3
          }
         },
         "name": "music",
         "showlegend": false,
         "type": "scatter",
         "x": [
          0.003407168486415132,
          0.008695296803123979,
          0.013983425119832827,
          0.019271553436541675,
          0.024559681753250517,
          0.029847810069959367,
          0.03513593838666822,
          0.04042406670337706,
          0.045712195020085916,
          0.05100032333679476,
          0.0562884516535036
         ],
         "xaxis": "x5",
         "y": [
          0.55,
          0.15,
          0,
          0.1,
          0.05,
          0.1,
          0,
          0,
          0.05,
          0,
          0
         ],
         "yaxis": "y5"
        },
        {
         "marker": {
          "color": "rgba(1.0,0.6107480029048659,0.0,1.0)",
          "line": {
           "color": "rgba(1.0,0.6107480029048659,0.0,1.0)",
           "width": 3
          }
         },
         "name": "speech",
         "showlegend": false,
         "type": "scatter",
         "x": [
          0.003407168486415132,
          0.008695296803123979,
          0.013983425119832827,
          0.019271553436541675,
          0.024559681753250517,
          0.029847810069959367,
          0.03513593838666822,
          0.04042406670337706,
          0.045712195020085916,
          0.05100032333679476,
          0.0562884516535036
         ],
         "xaxis": "x5",
         "y": [
          0.2631578947368421,
          0.3157894736842105,
          0.21052631578947367,
          0,
          0,
          0.10526315789473684,
          0.05263157894736842,
          0.05263157894736842,
          0,
          0,
          0
         ],
         "yaxis": "y5"
        }
       ],
       "layout": {
        "annotations": [
         {
          "font": {
           "color": "#224488",
           "size": 10
          },
          "showarrow": false,
          "text": "delta spectral_centroid_mean",
          "x": 0.08399999999999999,
          "xanchor": "center",
          "xref": "paper",
          "y": 1,
          "yanchor": "bottom",
          "yref": "paper"
         },
         {
          "font": {
           "color": "#224488",
           "size": 10
          },
          "showarrow": false,
          "text": "delta chroma_2_mean",
          "x": 0.292,
          "xanchor": "center",
          "xref": "paper",
          "y": 1,
          "yanchor": "bottom",
          "yref": "paper"
         },
         {
          "font": {
           "color": "#224488",
           "size": 10
          },
          "showarrow": false,
          "text": "mfcc_7_mean",
          "x": 0.5,
          "xanchor": "center",
          "xref": "paper",
          "y": 1,
          "yanchor": "bottom",
          "yref": "paper"
         },
         {
          "font": {
           "color": "#224488",
           "size": 10
          },
          "showarrow": false,
          "text": "delta chroma_3_mean",
          "x": 0.708,
          "xanchor": "center",
          "xref": "paper",
          "y": 1,
          "yanchor": "bottom",
          "yref": "paper"
         },
         {
          "font": {
           "color": "#224488",
           "size": 10
          },
          "showarrow": false,
          "text": "chroma_12_std",
          "x": 0.9159999999999999,
          "xanchor": "center",
          "xref": "paper",
          "y": 1,
          "yanchor": "bottom",
          "yref": "paper"
         },
         {
          "font": {
           "color": "#224488",
           "size": 10
          },
          "showarrow": false,
          "text": "energy_entropy_mean",
          "x": 0.08399999999999999,
          "xanchor": "center",
          "xref": "paper",
          "y": 0.375,
          "yanchor": "bottom",
          "yref": "paper"
         },
         {
          "font": {
           "color": "#224488",
           "size": 10
          },
          "showarrow": false,
          "text": "mfcc_8_mean",
          "x": 0.292,
          "xanchor": "center",
          "xref": "paper",
          "y": 0.375,
          "yanchor": "bottom",
          "yref": "paper"
         },
         {
          "font": {
           "color": "#224488",
           "size": 10
          },
          "showarrow": false,
          "text": "mfcc_12_mean",
          "x": 0.5,
          "xanchor": "center",
          "xref": "paper",
          "y": 0.375,
          "yanchor": "bottom",
          "yref": "paper"
         },
         {
          "font": {
           "color": "#224488",
           "size": 10
          },
          "showarrow": false,
          "text": "energy_entropy_std",
          "x": 0.708,
          "xanchor": "center",
          "xref": "paper",
          "y": 0.375,
          "yanchor": "bottom",
          "yref": "paper"
         },
         {
          "font": {
           "color": "#224488",
           "size": 10
          },
          "showarrow": false,
          "text": "mfcc_1_std",
          "x": 0.9159999999999999,
          "xanchor": "center",
          "xref": "paper",
          "y": 0.375,
          "yanchor": "bottom",
          "yref": "paper"
         }
        ],
        "height": 500,
        "template": {
         "data": {
          "bar": [
           {
            "error_x": {
             "color": "#2a3f5f"
            },
            "error_y": {
             "color": "#2a3f5f"
            },
            "marker": {
             "line": {
              "color": "#E5ECF6",
              "width": 0.5
             },
             "pattern": {
              "fillmode": "overlay",
              "size": 10,
              "solidity": 0.2
             }
            },
            "type": "bar"
           }
          ],
          "barpolar": [
           {
            "marker": {
             "line": {
              "color": "#E5ECF6",
              "width": 0.5
             },
             "pattern": {
              "fillmode": "overlay",
              "size": 10,
              "solidity": 0.2
             }
            },
            "type": "barpolar"
           }
          ],
          "carpet": [
           {
            "aaxis": {
             "endlinecolor": "#2a3f5f",
             "gridcolor": "white",
             "linecolor": "white",
             "minorgridcolor": "white",
             "startlinecolor": "#2a3f5f"
            },
            "baxis": {
             "endlinecolor": "#2a3f5f",
             "gridcolor": "white",
             "linecolor": "white",
             "minorgridcolor": "white",
             "startlinecolor": "#2a3f5f"
            },
            "type": "carpet"
           }
          ],
          "choropleth": [
           {
            "colorbar": {
             "outlinewidth": 0,
             "ticks": ""
            },
            "type": "choropleth"
           }
          ],
          "contour": [
           {
            "colorbar": {
             "outlinewidth": 0,
             "ticks": ""
            },
            "colorscale": [
             [
              0,
              "#0d0887"
             ],
             [
              0.1111111111111111,
              "#46039f"
             ],
             [
              0.2222222222222222,
              "#7201a8"
             ],
             [
              0.3333333333333333,
              "#9c179e"
             ],
             [
              0.4444444444444444,
              "#bd3786"
             ],
             [
              0.5555555555555556,
              "#d8576b"
             ],
             [
              0.6666666666666666,
              "#ed7953"
             ],
             [
              0.7777777777777778,
              "#fb9f3a"
             ],
             [
              0.8888888888888888,
              "#fdca26"
             ],
             [
              1,
              "#f0f921"
             ]
            ],
            "type": "contour"
           }
          ],
          "contourcarpet": [
           {
            "colorbar": {
             "outlinewidth": 0,
             "ticks": ""
            },
            "type": "contourcarpet"
           }
          ],
          "heatmap": [
           {
            "colorbar": {
             "outlinewidth": 0,
             "ticks": ""
            },
            "colorscale": [
             [
              0,
              "#0d0887"
             ],
             [
              0.1111111111111111,
              "#46039f"
             ],
             [
              0.2222222222222222,
              "#7201a8"
             ],
             [
              0.3333333333333333,
              "#9c179e"
             ],
             [
              0.4444444444444444,
              "#bd3786"
             ],
             [
              0.5555555555555556,
              "#d8576b"
             ],
             [
              0.6666666666666666,
              "#ed7953"
             ],
             [
              0.7777777777777778,
              "#fb9f3a"
             ],
             [
              0.8888888888888888,
              "#fdca26"
             ],
             [
              1,
              "#f0f921"
             ]
            ],
            "type": "heatmap"
           }
          ],
          "heatmapgl": [
           {
            "colorbar": {
             "outlinewidth": 0,
             "ticks": ""
            },
            "colorscale": [
             [
              0,
              "#0d0887"
             ],
             [
              0.1111111111111111,
              "#46039f"
             ],
             [
              0.2222222222222222,
              "#7201a8"
             ],
             [
              0.3333333333333333,
              "#9c179e"
             ],
             [
              0.4444444444444444,
              "#bd3786"
             ],
             [
              0.5555555555555556,
              "#d8576b"
             ],
             [
              0.6666666666666666,
              "#ed7953"
             ],
             [
              0.7777777777777778,
              "#fb9f3a"
             ],
             [
              0.8888888888888888,
              "#fdca26"
             ],
             [
              1,
              "#f0f921"
             ]
            ],
            "type": "heatmapgl"
           }
          ],
          "histogram": [
           {
            "marker": {
             "pattern": {
              "fillmode": "overlay",
              "size": 10,
              "solidity": 0.2
             }
            },
            "type": "histogram"
           }
          ],
          "histogram2d": [
           {
            "colorbar": {
             "outlinewidth": 0,
             "ticks": ""
            },
            "colorscale": [
             [
              0,
              "#0d0887"
             ],
             [
              0.1111111111111111,
              "#46039f"
             ],
             [
              0.2222222222222222,
              "#7201a8"
             ],
             [
              0.3333333333333333,
              "#9c179e"
             ],
             [
              0.4444444444444444,
              "#bd3786"
             ],
             [
              0.5555555555555556,
              "#d8576b"
             ],
             [
              0.6666666666666666,
              "#ed7953"
             ],
             [
              0.7777777777777778,
              "#fb9f3a"
             ],
             [
              0.8888888888888888,
              "#fdca26"
             ],
             [
              1,
              "#f0f921"
             ]
            ],
            "type": "histogram2d"
           }
          ],
          "histogram2dcontour": [
           {
            "colorbar": {
             "outlinewidth": 0,
             "ticks": ""
            },
            "colorscale": [
             [
              0,
              "#0d0887"
             ],
             [
              0.1111111111111111,
              "#46039f"
             ],
             [
              0.2222222222222222,
              "#7201a8"
             ],
             [
              0.3333333333333333,
              "#9c179e"
             ],
             [
              0.4444444444444444,
              "#bd3786"
             ],
             [
              0.5555555555555556,
              "#d8576b"
             ],
             [
              0.6666666666666666,
              "#ed7953"
             ],
             [
              0.7777777777777778,
              "#fb9f3a"
             ],
             [
              0.8888888888888888,
              "#fdca26"
             ],
             [
              1,
              "#f0f921"
             ]
            ],
            "type": "histogram2dcontour"
           }
          ],
          "mesh3d": [
           {
            "colorbar": {
             "outlinewidth": 0,
             "ticks": ""
            },
            "type": "mesh3d"
           }
          ],
          "parcoords": [
           {
            "line": {
             "colorbar": {
              "outlinewidth": 0,
              "ticks": ""
             }
            },
            "type": "parcoords"
           }
          ],
          "pie": [
           {
            "automargin": true,
            "type": "pie"
           }
          ],
          "scatter": [
           {
            "marker": {
             "colorbar": {
              "outlinewidth": 0,
              "ticks": ""
             }
            },
            "type": "scatter"
           }
          ],
          "scatter3d": [
           {
            "line": {
             "colorbar": {
              "outlinewidth": 0,
              "ticks": ""
             }
            },
            "marker": {
             "colorbar": {
              "outlinewidth": 0,
              "ticks": ""
             }
            },
            "type": "scatter3d"
           }
          ],
          "scattercarpet": [
           {
            "marker": {
             "colorbar": {
              "outlinewidth": 0,
              "ticks": ""
             }
            },
            "type": "scattercarpet"
           }
          ],
          "scattergeo": [
           {
            "marker": {
             "colorbar": {
              "outlinewidth": 0,
              "ticks": ""
             }
            },
            "type": "scattergeo"
           }
          ],
          "scattergl": [
           {
            "marker": {
             "colorbar": {
              "outlinewidth": 0,
              "ticks": ""
             }
            },
            "type": "scattergl"
           }
          ],
          "scattermapbox": [
           {
            "marker": {
             "colorbar": {
              "outlinewidth": 0,
              "ticks": ""
             }
            },
            "type": "scattermapbox"
           }
          ],
          "scatterpolar": [
           {
            "marker": {
             "colorbar": {
              "outlinewidth": 0,
              "ticks": ""
             }
            },
            "type": "scatterpolar"
           }
          ],
          "scatterpolargl": [
           {
            "marker": {
             "colorbar": {
              "outlinewidth": 0,
              "ticks": ""
             }
            },
            "type": "scatterpolargl"
           }
          ],
          "scatterternary": [
           {
            "marker": {
             "colorbar": {
              "outlinewidth": 0,
              "ticks": ""
             }
            },
            "type": "scatterternary"
           }
          ],
          "surface": [
           {
            "colorbar": {
             "outlinewidth": 0,
             "ticks": ""
            },
            "colorscale": [
             [
              0,
              "#0d0887"
             ],
             [
              0.1111111111111111,
              "#46039f"
             ],
             [
              0.2222222222222222,
              "#7201a8"
             ],
             [
              0.3333333333333333,
              "#9c179e"
             ],
             [
              0.4444444444444444,
              "#bd3786"
             ],
             [
              0.5555555555555556,
              "#d8576b"
             ],
             [
              0.6666666666666666,
              "#ed7953"
             ],
             [
              0.7777777777777778,
              "#fb9f3a"
             ],
             [
              0.8888888888888888,
              "#fdca26"
             ],
             [
              1,
              "#f0f921"
             ]
            ],
            "type": "surface"
           }
          ],
          "table": [
           {
            "cells": {
             "fill": {
              "color": "#EBF0F8"
             },
             "line": {
              "color": "white"
             }
            },
            "header": {
             "fill": {
              "color": "#C8D4E3"
             },
             "line": {
              "color": "white"
             }
            },
            "type": "table"
           }
          ]
         },
         "layout": {
          "annotationdefaults": {
           "arrowcolor": "#2a3f5f",
           "arrowhead": 0,
           "arrowwidth": 1
          },
          "autotypenumbers": "strict",
          "coloraxis": {
           "colorbar": {
            "outlinewidth": 0,
            "ticks": ""
           }
          },
          "colorscale": {
           "diverging": [
            [
             0,
             "#8e0152"
            ],
            [
             0.1,
             "#c51b7d"
            ],
            [
             0.2,
             "#de77ae"
            ],
            [
             0.3,
             "#f1b6da"
            ],
            [
             0.4,
             "#fde0ef"
            ],
            [
             0.5,
             "#f7f7f7"
            ],
            [
             0.6,
             "#e6f5d0"
            ],
            [
             0.7,
             "#b8e186"
            ],
            [
             0.8,
             "#7fbc41"
            ],
            [
             0.9,
             "#4d9221"
            ],
            [
             1,
             "#276419"
            ]
           ],
           "sequential": [
            [
             0,
             "#0d0887"
            ],
            [
             0.1111111111111111,
             "#46039f"
            ],
            [
             0.2222222222222222,
             "#7201a8"
            ],
            [
             0.3333333333333333,
             "#9c179e"
            ],
            [
             0.4444444444444444,
             "#bd3786"
            ],
            [
             0.5555555555555556,
             "#d8576b"
            ],
            [
             0.6666666666666666,
             "#ed7953"
            ],
            [
             0.7777777777777778,
             "#fb9f3a"
            ],
            [
             0.8888888888888888,
             "#fdca26"
            ],
            [
             1,
             "#f0f921"
            ]
           ],
           "sequentialminus": [
            [
             0,
             "#0d0887"
            ],
            [
             0.1111111111111111,
             "#46039f"
            ],
            [
             0.2222222222222222,
             "#7201a8"
            ],
            [
             0.3333333333333333,
             "#9c179e"
            ],
            [
             0.4444444444444444,
             "#bd3786"
            ],
            [
             0.5555555555555556,
             "#d8576b"
            ],
            [
             0.6666666666666666,
             "#ed7953"
            ],
            [
             0.7777777777777778,
             "#fb9f3a"
            ],
            [
             0.8888888888888888,
             "#fdca26"
            ],
            [
             1,
             "#f0f921"
            ]
           ]
          },
          "colorway": [
           "#636efa",
           "#EF553B",
           "#00cc96",
           "#ab63fa",
           "#FFA15A",
           "#19d3f3",
           "#FF6692",
           "#B6E880",
           "#FF97FF",
           "#FECB52"
          ],
          "font": {
           "color": "#2a3f5f"
          },
          "geo": {
           "bgcolor": "white",
           "lakecolor": "white",
           "landcolor": "#E5ECF6",
           "showlakes": true,
           "showland": true,
           "subunitcolor": "white"
          },
          "hoverlabel": {
           "align": "left"
          },
          "hovermode": "closest",
          "mapbox": {
           "style": "light"
          },
          "paper_bgcolor": "white",
          "plot_bgcolor": "#E5ECF6",
          "polar": {
           "angularaxis": {
            "gridcolor": "white",
            "linecolor": "white",
            "ticks": ""
           },
           "bgcolor": "#E5ECF6",
           "radialaxis": {
            "gridcolor": "white",
            "linecolor": "white",
            "ticks": ""
           }
          },
          "scene": {
           "xaxis": {
            "backgroundcolor": "#E5ECF6",
            "gridcolor": "white",
            "gridwidth": 2,
            "linecolor": "white",
            "showbackground": true,
            "ticks": "",
            "zerolinecolor": "white"
           },
           "yaxis": {
            "backgroundcolor": "#E5ECF6",
            "gridcolor": "white",
            "gridwidth": 2,
            "linecolor": "white",
            "showbackground": true,
            "ticks": "",
            "zerolinecolor": "white"
           },
           "zaxis": {
            "backgroundcolor": "#E5ECF6",
            "gridcolor": "white",
            "gridwidth": 2,
            "linecolor": "white",
            "showbackground": true,
            "ticks": "",
            "zerolinecolor": "white"
           }
          },
          "shapedefaults": {
           "line": {
            "color": "#2a3f5f"
           }
          },
          "ternary": {
           "aaxis": {
            "gridcolor": "white",
            "linecolor": "white",
            "ticks": ""
           },
           "baxis": {
            "gridcolor": "white",
            "linecolor": "white",
            "ticks": ""
           },
           "bgcolor": "#E5ECF6",
           "caxis": {
            "gridcolor": "white",
            "linecolor": "white",
            "ticks": ""
           }
          },
          "title": {
           "x": 0.05
          },
          "xaxis": {
           "automargin": true,
           "gridcolor": "white",
           "linecolor": "white",
           "ticks": "",
           "title": {
            "standoff": 15
           },
           "zerolinecolor": "white",
           "zerolinewidth": 2
          },
          "yaxis": {
           "automargin": true,
           "gridcolor": "white",
           "linecolor": "white",
           "ticks": "",
           "title": {
            "standoff": 15
           },
           "zerolinecolor": "white",
           "zerolinewidth": 2
          }
         }
        },
        "xaxis": {
         "anchor": "y",
         "domain": [
          0,
          0.16799999999999998
         ]
        },
        "xaxis10": {
         "anchor": "y10",
         "domain": [
          0.832,
          1
         ]
        },
        "xaxis2": {
         "anchor": "y2",
         "domain": [
          0.208,
          0.376
         ]
        },
        "xaxis3": {
         "anchor": "y3",
         "domain": [
          0.416,
          0.584
         ]
        },
        "xaxis4": {
         "anchor": "y4",
         "domain": [
          0.624,
          0.792
         ]
        },
        "xaxis5": {
         "anchor": "y5",
         "domain": [
          0.832,
          1
         ]
        },
        "xaxis6": {
         "anchor": "y6",
         "domain": [
          0,
          0.16799999999999998
         ]
        },
        "xaxis7": {
         "anchor": "y7",
         "domain": [
          0.208,
          0.376
         ]
        },
        "xaxis8": {
         "anchor": "y8",
         "domain": [
          0.416,
          0.584
         ]
        },
        "xaxis9": {
         "anchor": "y9",
         "domain": [
          0.624,
          0.792
         ]
        },
        "yaxis": {
         "anchor": "x",
         "domain": [
          0.625,
          1
         ]
        },
        "yaxis10": {
         "anchor": "x10",
         "domain": [
          0,
          0.375
         ]
        },
        "yaxis2": {
         "anchor": "x2",
         "domain": [
          0.625,
          1
         ]
        },
        "yaxis3": {
         "anchor": "x3",
         "domain": [
          0.625,
          1
         ]
        },
        "yaxis4": {
         "anchor": "x4",
         "domain": [
          0.625,
          1
         ]
        },
        "yaxis5": {
         "anchor": "x5",
         "domain": [
          0.625,
          1
         ]
        },
        "yaxis6": {
         "anchor": "x6",
         "domain": [
          0,
          0.375
         ]
        },
        "yaxis7": {
         "anchor": "x7",
         "domain": [
          0,
          0.375
         ]
        },
        "yaxis8": {
         "anchor": "x8",
         "domain": [
          0,
          0.375
         ]
        },
        "yaxis9": {
         "anchor": "x9",
         "domain": [
          0,
          0.375
         ]
        }
       }
      },
      "text/html": [
       "<div>                            <div id=\"97ccf503-f24a-481d-9976-929b5be2bd94\" class=\"plotly-graph-div\" style=\"height:500px; width:100%;\"></div>            <script type=\"text/javascript\">                require([\"plotly\"], function(Plotly) {                    window.PLOTLYENV=window.PLOTLYENV || {};                                    if (document.getElementById(\"97ccf503-f24a-481d-9976-929b5be2bd94\")) {                    Plotly.newPlot(                        \"97ccf503-f24a-481d-9976-929b5be2bd94\",                        [{\"marker\":{\"color\":\"rgba(0.0,0.48823529411764705,1.0,1.0)\",\"line\":{\"color\":\"rgba(0.0,0.48823529411764705,1.0,1.0)\",\"width\":3}},\"name\":\"music\",\"showlegend\":false,\"type\":\"scatter\",\"x\":[-0.6061893026824556,-0.5161456783939704,-0.42610205410548535,-0.33605842981700024,-0.24601480552851512,-0.15597118124003,-0.0659275569515449,0.024116067336940217,0.11415969162542533,0.20420331591391044,0.29424694020239556],\"xaxis\":\"x\",\"y\":[0.0,0.0,0.0,0.10526315789473684,0.05263157894736842,0.10526315789473684,0.21052631578947367,0.21052631578947367,0.15789473684210525,0.10526315789473684,0.05263157894736842],\"yaxis\":\"y\"},{\"marker\":{\"color\":\"rgba(1.0,0.6107480029048659,0.0,1.0)\",\"line\":{\"color\":\"rgba(1.0,0.6107480029048659,0.0,1.0)\",\"width\":3}},\"name\":\"speech\",\"showlegend\":false,\"type\":\"scatter\",\"x\":[-0.6061893026824556,-0.5161456783939704,-0.42610205410548535,-0.33605842981700024,-0.24601480552851512,-0.15597118124003,-0.0659275569515449,0.024116067336940217,0.11415969162542533,0.20420331591391044,0.29424694020239556],\"xaxis\":\"x\",\"y\":[0.05555555555555555,0.0,0.1111111111111111,0.05555555555555555,0.1111111111111111,0.16666666666666666,0.1111111111111111,0.2777777777777778,0.05555555555555555,0.0,0.05555555555555555],\"yaxis\":\"y\"},{\"marker\":{\"color\":\"rgba(0.0,0.48823529411764705,1.0,1.0)\",\"line\":{\"color\":\"rgba(0.0,0.48823529411764705,1.0,1.0)\",\"width\":3}},\"name\":\"music\",\"showlegend\":false,\"type\":\"scatter\",\"x\":[-0.029885412009665744,-0.025587179607221466,-0.021288947204777187,-0.01699071480233291,-0.01269248239988863,-0.008394249997444352,-0.004096017595000074,0.00020221480744420442,0.004500447209888483,0.008798679612332761,0.01309691201477704],\"xaxis\":\"x2\",\"y\":[0.0,0.0,0.0,0.0,0.0,0.15,0.1,0.45,0.25,0.05,0.0],\"yaxis\":\"y2\"},{\"marker\":{\"color\":\"rgba(1.0,0.6107480029048659,0.0,1.0)\",\"line\":{\"color\":\"rgba(1.0,0.6107480029048659,0.0,1.0)\",\"width\":3}},\"name\":\"speech\",\"showlegend\":false,\"type\":\"scatter\",\"x\":[-0.029885412009665744,-0.025587179607221466,-0.021288947204777187,-0.01699071480233291,-0.01269248239988863,-0.008394249997444352,-0.004096017595000074,0.00020221480744420442,0.004500447209888483,0.008798679612332761,0.01309691201477704],\"xaxis\":\"x2\",\"y\":[0.05555555555555555,0.05555555555555555,0.0,0.16666666666666666,0.16666666666666666,0.1111111111111111,0.16666666666666666,0.0,0.2222222222222222,0.05555555555555555,0.0],\"yaxis\":\"y2\"},{\"marker\":{\"color\":\"rgba(0.0,0.48823529411764705,1.0,1.0)\",\"line\":{\"color\":\"rgba(0.0,0.48823529411764705,1.0,1.0)\",\"width\":3}},\"name\":\"music\",\"showlegend\":false,\"type\":\"scatter\",\"x\":[-0.015516490411518882,-0.013787403393032614,-0.012058316374546341,-0.010329229356060073,-0.0086001423375738,-0.006871055319087531,-0.00514196830060126,-0.0034128812821149898,-0.0016837942636287193,4.5292754857551194e-05,0.0017743797733438208],\"xaxis\":\"x3\",\"y\":[0.05263157894736842,0.0,0.0,0.0,0.0,0.0,0.0,0.0,0.0,0.8947368421052632,0.05263157894736842],\"yaxis\":\"y3\"},{\"marker\":{\"color\":\"rgba(1.0,0.6107480029048659,0.0,1.0)\",\"line\":{\"color\":\"rgba(1.0,0.6107480029048659,0.0,1.0)\",\"width\":3}},\"name\":\"speech\",\"showlegend\":false,\"type\":\"scatter\",\"x\":[-0.015516490411518882,-0.013787403393032614,-0.012058316374546341,-0.010329229356060073,-0.0086001423375738,-0.006871055319087531,-0.00514196830060126,-0.0034128812821149898,-0.0016837942636287193,4.5292754857551194e-05,0.0017743797733438208],\"xaxis\":\"x3\",\"y\":[0.0,0.0,0.0,0.0,0.0,0.05263157894736842,0.0,0.0,0.15789473684210525,0.631578947368421,0.15789473684210525],\"yaxis\":\"y3\"},{\"marker\":{\"color\":\"rgba(0.0,0.48823529411764705,1.0,1.0)\",\"line\":{\"color\":\"rgba(0.0,0.48823529411764705,1.0,1.0)\",\"width\":3}},\"name\":\"music\",\"showlegend\":false,\"type\":\"scatter\",\"x\":[-0.015429582313312887,-0.012561374951628262,-0.009693167589943638,-0.006824960228259014,-0.0039567528665743895,-0.0010885455048897652,0.0017796618567948591,0.004647869218479483,0.007516076580164108,0.010384283941848732,0.013252491303533356],\"xaxis\":\"x4\",\"y\":[0.10526315789473684,0.0,0.0,0.05263157894736842,0.10526315789473684,0.47368421052631576,0.05263157894736842,0.15789473684210525,0.0,0.0,0.05263157894736842],\"yaxis\":\"y4\"},{\"marker\":{\"color\":\"rgba(1.0,0.6107480029048659,0.0,1.0)\",\"line\":{\"color\":\"rgba(1.0,0.6107480029048659,0.0,1.0)\",\"width\":3}},\"name\":\"speech\",\"showlegend\":false,\"type\":\"scatter\",\"x\":[-0.015429582313312887,-0.012561374951628262,-0.009693167589943638,-0.006824960228259014,-0.0039567528665743895,-0.0010885455048897652,0.0017796618567948591,0.004647869218479483,0.007516076580164108,0.010384283941848732,0.013252491303533356],\"xaxis\":\"x4\",\"y\":[0.0,0.0,0.0,0.0,0.05,0.6,0.3,0.0,0.0,0.0,0.05],\"yaxis\":\"y4\"},{\"marker\":{\"color\":\"rgba(0.0,0.48823529411764705,1.0,1.0)\",\"line\":{\"color\":\"rgba(0.0,0.48823529411764705,1.0,1.0)\",\"width\":3}},\"name\":\"music\",\"showlegend\":false,\"type\":\"scatter\",\"x\":[0.003407168486415132,0.008695296803123979,0.013983425119832827,0.019271553436541675,0.024559681753250517,0.029847810069959367,0.03513593838666822,0.04042406670337706,0.045712195020085916,0.05100032333679476,0.0562884516535036],\"xaxis\":\"x5\",\"y\":[0.55,0.15,0.0,0.1,0.05,0.1,0.0,0.0,0.05,0.0,0.0],\"yaxis\":\"y5\"},{\"marker\":{\"color\":\"rgba(1.0,0.6107480029048659,0.0,1.0)\",\"line\":{\"color\":\"rgba(1.0,0.6107480029048659,0.0,1.0)\",\"width\":3}},\"name\":\"speech\",\"showlegend\":false,\"type\":\"scatter\",\"x\":[0.003407168486415132,0.008695296803123979,0.013983425119832827,0.019271553436541675,0.024559681753250517,0.029847810069959367,0.03513593838666822,0.04042406670337706,0.045712195020085916,0.05100032333679476,0.0562884516535036],\"xaxis\":\"x5\",\"y\":[0.2631578947368421,0.3157894736842105,0.21052631578947367,0.0,0.0,0.10526315789473684,0.05263157894736842,0.05263157894736842,0.0,0.0,0.0],\"yaxis\":\"y5\"}],                        {\"annotations\":[{\"font\":{\"color\":\"#224488\",\"size\":10},\"showarrow\":false,\"text\":\"delta spectral_centroid_mean\",\"x\":0.08399999999999999,\"xanchor\":\"center\",\"xref\":\"paper\",\"y\":1.0,\"yanchor\":\"bottom\",\"yref\":\"paper\"},{\"font\":{\"color\":\"#224488\",\"size\":10},\"showarrow\":false,\"text\":\"delta chroma_2_mean\",\"x\":0.292,\"xanchor\":\"center\",\"xref\":\"paper\",\"y\":1.0,\"yanchor\":\"bottom\",\"yref\":\"paper\"},{\"font\":{\"color\":\"#224488\",\"size\":10},\"showarrow\":false,\"text\":\"mfcc_7_mean\",\"x\":0.5,\"xanchor\":\"center\",\"xref\":\"paper\",\"y\":1.0,\"yanchor\":\"bottom\",\"yref\":\"paper\"},{\"font\":{\"color\":\"#224488\",\"size\":10},\"showarrow\":false,\"text\":\"delta chroma_3_mean\",\"x\":0.708,\"xanchor\":\"center\",\"xref\":\"paper\",\"y\":1.0,\"yanchor\":\"bottom\",\"yref\":\"paper\"},{\"font\":{\"color\":\"#224488\",\"size\":10},\"showarrow\":false,\"text\":\"chroma_12_std\",\"x\":0.9159999999999999,\"xanchor\":\"center\",\"xref\":\"paper\",\"y\":1.0,\"yanchor\":\"bottom\",\"yref\":\"paper\"},{\"font\":{\"color\":\"#224488\",\"size\":10},\"showarrow\":false,\"text\":\"energy_entropy_mean\",\"x\":0.08399999999999999,\"xanchor\":\"center\",\"xref\":\"paper\",\"y\":0.375,\"yanchor\":\"bottom\",\"yref\":\"paper\"},{\"font\":{\"color\":\"#224488\",\"size\":10},\"showarrow\":false,\"text\":\"mfcc_8_mean\",\"x\":0.292,\"xanchor\":\"center\",\"xref\":\"paper\",\"y\":0.375,\"yanchor\":\"bottom\",\"yref\":\"paper\"},{\"font\":{\"color\":\"#224488\",\"size\":10},\"showarrow\":false,\"text\":\"mfcc_12_mean\",\"x\":0.5,\"xanchor\":\"center\",\"xref\":\"paper\",\"y\":0.375,\"yanchor\":\"bottom\",\"yref\":\"paper\"},{\"font\":{\"color\":\"#224488\",\"size\":10},\"showarrow\":false,\"text\":\"energy_entropy_std\",\"x\":0.708,\"xanchor\":\"center\",\"xref\":\"paper\",\"y\":0.375,\"yanchor\":\"bottom\",\"yref\":\"paper\"},{\"font\":{\"color\":\"#224488\",\"size\":10},\"showarrow\":false,\"text\":\"mfcc_1_std\",\"x\":0.9159999999999999,\"xanchor\":\"center\",\"xref\":\"paper\",\"y\":0.375,\"yanchor\":\"bottom\",\"yref\":\"paper\"}],\"height\":500,\"template\":{\"data\":{\"bar\":[{\"error_x\":{\"color\":\"#2a3f5f\"},\"error_y\":{\"color\":\"#2a3f5f\"},\"marker\":{\"line\":{\"color\":\"#E5ECF6\",\"width\":0.5},\"pattern\":{\"fillmode\":\"overlay\",\"size\":10,\"solidity\":0.2}},\"type\":\"bar\"}],\"barpolar\":[{\"marker\":{\"line\":{\"color\":\"#E5ECF6\",\"width\":0.5},\"pattern\":{\"fillmode\":\"overlay\",\"size\":10,\"solidity\":0.2}},\"type\":\"barpolar\"}],\"carpet\":[{\"aaxis\":{\"endlinecolor\":\"#2a3f5f\",\"gridcolor\":\"white\",\"linecolor\":\"white\",\"minorgridcolor\":\"white\",\"startlinecolor\":\"#2a3f5f\"},\"baxis\":{\"endlinecolor\":\"#2a3f5f\",\"gridcolor\":\"white\",\"linecolor\":\"white\",\"minorgridcolor\":\"white\",\"startlinecolor\":\"#2a3f5f\"},\"type\":\"carpet\"}],\"choropleth\":[{\"colorbar\":{\"outlinewidth\":0,\"ticks\":\"\"},\"type\":\"choropleth\"}],\"contour\":[{\"colorbar\":{\"outlinewidth\":0,\"ticks\":\"\"},\"colorscale\":[[0.0,\"#0d0887\"],[0.1111111111111111,\"#46039f\"],[0.2222222222222222,\"#7201a8\"],[0.3333333333333333,\"#9c179e\"],[0.4444444444444444,\"#bd3786\"],[0.5555555555555556,\"#d8576b\"],[0.6666666666666666,\"#ed7953\"],[0.7777777777777778,\"#fb9f3a\"],[0.8888888888888888,\"#fdca26\"],[1.0,\"#f0f921\"]],\"type\":\"contour\"}],\"contourcarpet\":[{\"colorbar\":{\"outlinewidth\":0,\"ticks\":\"\"},\"type\":\"contourcarpet\"}],\"heatmap\":[{\"colorbar\":{\"outlinewidth\":0,\"ticks\":\"\"},\"colorscale\":[[0.0,\"#0d0887\"],[0.1111111111111111,\"#46039f\"],[0.2222222222222222,\"#7201a8\"],[0.3333333333333333,\"#9c179e\"],[0.4444444444444444,\"#bd3786\"],[0.5555555555555556,\"#d8576b\"],[0.6666666666666666,\"#ed7953\"],[0.7777777777777778,\"#fb9f3a\"],[0.8888888888888888,\"#fdca26\"],[1.0,\"#f0f921\"]],\"type\":\"heatmap\"}],\"heatmapgl\":[{\"colorbar\":{\"outlinewidth\":0,\"ticks\":\"\"},\"colorscale\":[[0.0,\"#0d0887\"],[0.1111111111111111,\"#46039f\"],[0.2222222222222222,\"#7201a8\"],[0.3333333333333333,\"#9c179e\"],[0.4444444444444444,\"#bd3786\"],[0.5555555555555556,\"#d8576b\"],[0.6666666666666666,\"#ed7953\"],[0.7777777777777778,\"#fb9f3a\"],[0.8888888888888888,\"#fdca26\"],[1.0,\"#f0f921\"]],\"type\":\"heatmapgl\"}],\"histogram\":[{\"marker\":{\"pattern\":{\"fillmode\":\"overlay\",\"size\":10,\"solidity\":0.2}},\"type\":\"histogram\"}],\"histogram2d\":[{\"colorbar\":{\"outlinewidth\":0,\"ticks\":\"\"},\"colorscale\":[[0.0,\"#0d0887\"],[0.1111111111111111,\"#46039f\"],[0.2222222222222222,\"#7201a8\"],[0.3333333333333333,\"#9c179e\"],[0.4444444444444444,\"#bd3786\"],[0.5555555555555556,\"#d8576b\"],[0.6666666666666666,\"#ed7953\"],[0.7777777777777778,\"#fb9f3a\"],[0.8888888888888888,\"#fdca26\"],[1.0,\"#f0f921\"]],\"type\":\"histogram2d\"}],\"histogram2dcontour\":[{\"colorbar\":{\"outlinewidth\":0,\"ticks\":\"\"},\"colorscale\":[[0.0,\"#0d0887\"],[0.1111111111111111,\"#46039f\"],[0.2222222222222222,\"#7201a8\"],[0.3333333333333333,\"#9c179e\"],[0.4444444444444444,\"#bd3786\"],[0.5555555555555556,\"#d8576b\"],[0.6666666666666666,\"#ed7953\"],[0.7777777777777778,\"#fb9f3a\"],[0.8888888888888888,\"#fdca26\"],[1.0,\"#f0f921\"]],\"type\":\"histogram2dcontour\"}],\"mesh3d\":[{\"colorbar\":{\"outlinewidth\":0,\"ticks\":\"\"},\"type\":\"mesh3d\"}],\"parcoords\":[{\"line\":{\"colorbar\":{\"outlinewidth\":0,\"ticks\":\"\"}},\"type\":\"parcoords\"}],\"pie\":[{\"automargin\":true,\"type\":\"pie\"}],\"scatter\":[{\"marker\":{\"colorbar\":{\"outlinewidth\":0,\"ticks\":\"\"}},\"type\":\"scatter\"}],\"scatter3d\":[{\"line\":{\"colorbar\":{\"outlinewidth\":0,\"ticks\":\"\"}},\"marker\":{\"colorbar\":{\"outlinewidth\":0,\"ticks\":\"\"}},\"type\":\"scatter3d\"}],\"scattercarpet\":[{\"marker\":{\"colorbar\":{\"outlinewidth\":0,\"ticks\":\"\"}},\"type\":\"scattercarpet\"}],\"scattergeo\":[{\"marker\":{\"colorbar\":{\"outlinewidth\":0,\"ticks\":\"\"}},\"type\":\"scattergeo\"}],\"scattergl\":[{\"marker\":{\"colorbar\":{\"outlinewidth\":0,\"ticks\":\"\"}},\"type\":\"scattergl\"}],\"scattermapbox\":[{\"marker\":{\"colorbar\":{\"outlinewidth\":0,\"ticks\":\"\"}},\"type\":\"scattermapbox\"}],\"scatterpolar\":[{\"marker\":{\"colorbar\":{\"outlinewidth\":0,\"ticks\":\"\"}},\"type\":\"scatterpolar\"}],\"scatterpolargl\":[{\"marker\":{\"colorbar\":{\"outlinewidth\":0,\"ticks\":\"\"}},\"type\":\"scatterpolargl\"}],\"scatterternary\":[{\"marker\":{\"colorbar\":{\"outlinewidth\":0,\"ticks\":\"\"}},\"type\":\"scatterternary\"}],\"surface\":[{\"colorbar\":{\"outlinewidth\":0,\"ticks\":\"\"},\"colorscale\":[[0.0,\"#0d0887\"],[0.1111111111111111,\"#46039f\"],[0.2222222222222222,\"#7201a8\"],[0.3333333333333333,\"#9c179e\"],[0.4444444444444444,\"#bd3786\"],[0.5555555555555556,\"#d8576b\"],[0.6666666666666666,\"#ed7953\"],[0.7777777777777778,\"#fb9f3a\"],[0.8888888888888888,\"#fdca26\"],[1.0,\"#f0f921\"]],\"type\":\"surface\"}],\"table\":[{\"cells\":{\"fill\":{\"color\":\"#EBF0F8\"},\"line\":{\"color\":\"white\"}},\"header\":{\"fill\":{\"color\":\"#C8D4E3\"},\"line\":{\"color\":\"white\"}},\"type\":\"table\"}]},\"layout\":{\"annotationdefaults\":{\"arrowcolor\":\"#2a3f5f\",\"arrowhead\":0,\"arrowwidth\":1},\"autotypenumbers\":\"strict\",\"coloraxis\":{\"colorbar\":{\"outlinewidth\":0,\"ticks\":\"\"}},\"colorscale\":{\"diverging\":[[0,\"#8e0152\"],[0.1,\"#c51b7d\"],[0.2,\"#de77ae\"],[0.3,\"#f1b6da\"],[0.4,\"#fde0ef\"],[0.5,\"#f7f7f7\"],[0.6,\"#e6f5d0\"],[0.7,\"#b8e186\"],[0.8,\"#7fbc41\"],[0.9,\"#4d9221\"],[1,\"#276419\"]],\"sequential\":[[0.0,\"#0d0887\"],[0.1111111111111111,\"#46039f\"],[0.2222222222222222,\"#7201a8\"],[0.3333333333333333,\"#9c179e\"],[0.4444444444444444,\"#bd3786\"],[0.5555555555555556,\"#d8576b\"],[0.6666666666666666,\"#ed7953\"],[0.7777777777777778,\"#fb9f3a\"],[0.8888888888888888,\"#fdca26\"],[1.0,\"#f0f921\"]],\"sequentialminus\":[[0.0,\"#0d0887\"],[0.1111111111111111,\"#46039f\"],[0.2222222222222222,\"#7201a8\"],[0.3333333333333333,\"#9c179e\"],[0.4444444444444444,\"#bd3786\"],[0.5555555555555556,\"#d8576b\"],[0.6666666666666666,\"#ed7953\"],[0.7777777777777778,\"#fb9f3a\"],[0.8888888888888888,\"#fdca26\"],[1.0,\"#f0f921\"]]},\"colorway\":[\"#636efa\",\"#EF553B\",\"#00cc96\",\"#ab63fa\",\"#FFA15A\",\"#19d3f3\",\"#FF6692\",\"#B6E880\",\"#FF97FF\",\"#FECB52\"],\"font\":{\"color\":\"#2a3f5f\"},\"geo\":{\"bgcolor\":\"white\",\"lakecolor\":\"white\",\"landcolor\":\"#E5ECF6\",\"showlakes\":true,\"showland\":true,\"subunitcolor\":\"white\"},\"hoverlabel\":{\"align\":\"left\"},\"hovermode\":\"closest\",\"mapbox\":{\"style\":\"light\"},\"paper_bgcolor\":\"white\",\"plot_bgcolor\":\"#E5ECF6\",\"polar\":{\"angularaxis\":{\"gridcolor\":\"white\",\"linecolor\":\"white\",\"ticks\":\"\"},\"bgcolor\":\"#E5ECF6\",\"radialaxis\":{\"gridcolor\":\"white\",\"linecolor\":\"white\",\"ticks\":\"\"}},\"scene\":{\"xaxis\":{\"backgroundcolor\":\"#E5ECF6\",\"gridcolor\":\"white\",\"gridwidth\":2,\"linecolor\":\"white\",\"showbackground\":true,\"ticks\":\"\",\"zerolinecolor\":\"white\"},\"yaxis\":{\"backgroundcolor\":\"#E5ECF6\",\"gridcolor\":\"white\",\"gridwidth\":2,\"linecolor\":\"white\",\"showbackground\":true,\"ticks\":\"\",\"zerolinecolor\":\"white\"},\"zaxis\":{\"backgroundcolor\":\"#E5ECF6\",\"gridcolor\":\"white\",\"gridwidth\":2,\"linecolor\":\"white\",\"showbackground\":true,\"ticks\":\"\",\"zerolinecolor\":\"white\"}},\"shapedefaults\":{\"line\":{\"color\":\"#2a3f5f\"}},\"ternary\":{\"aaxis\":{\"gridcolor\":\"white\",\"linecolor\":\"white\",\"ticks\":\"\"},\"baxis\":{\"gridcolor\":\"white\",\"linecolor\":\"white\",\"ticks\":\"\"},\"bgcolor\":\"#E5ECF6\",\"caxis\":{\"gridcolor\":\"white\",\"linecolor\":\"white\",\"ticks\":\"\"}},\"title\":{\"x\":0.05},\"xaxis\":{\"automargin\":true,\"gridcolor\":\"white\",\"linecolor\":\"white\",\"ticks\":\"\",\"title\":{\"standoff\":15},\"zerolinecolor\":\"white\",\"zerolinewidth\":2},\"yaxis\":{\"automargin\":true,\"gridcolor\":\"white\",\"linecolor\":\"white\",\"ticks\":\"\",\"title\":{\"standoff\":15},\"zerolinecolor\":\"white\",\"zerolinewidth\":2}}},\"xaxis\":{\"anchor\":\"y\",\"domain\":[0.0,0.16799999999999998]},\"xaxis10\":{\"anchor\":\"y10\",\"domain\":[0.832,1.0]},\"xaxis2\":{\"anchor\":\"y2\",\"domain\":[0.208,0.376]},\"xaxis3\":{\"anchor\":\"y3\",\"domain\":[0.416,0.584]},\"xaxis4\":{\"anchor\":\"y4\",\"domain\":[0.624,0.792]},\"xaxis5\":{\"anchor\":\"y5\",\"domain\":[0.832,1.0]},\"xaxis6\":{\"anchor\":\"y6\",\"domain\":[0.0,0.16799999999999998]},\"xaxis7\":{\"anchor\":\"y7\",\"domain\":[0.208,0.376]},\"xaxis8\":{\"anchor\":\"y8\",\"domain\":[0.416,0.584]},\"xaxis9\":{\"anchor\":\"y9\",\"domain\":[0.624,0.792]},\"yaxis\":{\"anchor\":\"x\",\"domain\":[0.625,1.0]},\"yaxis10\":{\"anchor\":\"x10\",\"domain\":[0.0,0.375]},\"yaxis2\":{\"anchor\":\"x2\",\"domain\":[0.625,1.0]},\"yaxis3\":{\"anchor\":\"x3\",\"domain\":[0.625,1.0]},\"yaxis4\":{\"anchor\":\"x4\",\"domain\":[0.625,1.0]},\"yaxis5\":{\"anchor\":\"x5\",\"domain\":[0.625,1.0]},\"yaxis6\":{\"anchor\":\"x6\",\"domain\":[0.0,0.375]},\"yaxis7\":{\"anchor\":\"x7\",\"domain\":[0.0,0.375]},\"yaxis8\":{\"anchor\":\"x8\",\"domain\":[0.0,0.375]},\"yaxis9\":{\"anchor\":\"x9\",\"domain\":[0.0,0.375]}},                        {\"responsive\": true}                    ).then(function(){\n",
       "                            \n",
       "var gd = document.getElementById('97ccf503-f24a-481d-9976-929b5be2bd94');\n",
       "var x = new MutationObserver(function (mutations, observer) {{\n",
       "        var display = window.getComputedStyle(gd).display;\n",
       "        if (!display || display === 'none') {{\n",
       "            console.log([gd, 'removed!']);\n",
       "            Plotly.purge(gd);\n",
       "            observer.disconnect();\n",
       "        }}\n",
       "}});\n",
       "\n",
       "// Listen for the removal of the full notebook cells\n",
       "var notebookContainer = gd.closest('#notebook-container');\n",
       "if (notebookContainer) {{\n",
       "    x.observe(notebookContainer, {childList: true});\n",
       "}}\n",
       "\n",
       "// Listen for the clearing of the current output cell\n",
       "var outputEl = gd.closest('.output');\n",
       "if (outputEl) {{\n",
       "    x.observe(outputEl, {childList: true});\n",
       "}}\n",
       "\n",
       "                        })                };                });            </script>        </div>"
      ]
     },
     "metadata": {},
     "output_type": "display_data"
    }
   ],
   "source": [
    "import plotly\n",
    "import plotly.subplots\n",
    "import plotly.graph_objs as go\n",
    "import numpy as np\n",
    "import matplotlib.pyplot as plt\n",
    "\n",
    "def get_color_combinations(n_classes):\n",
    "    clr_map = plt.cm.get_cmap('jet')\n",
    "    range_cl = range(int(int(255/n_classes)/2), 255, int(255/n_classes))\n",
    "    clr = []\n",
    "    for i in range(n_classes):\n",
    "        clr.append('rgba({},{},{},{})'.format(clr_map(range_cl[i])[0],\n",
    "                                              clr_map(range_cl[i])[1],\n",
    "                                              clr_map(range_cl[i])[2],\n",
    "                                              clr_map(range_cl[i])[3]))\n",
    "    return clr\n",
    "\n",
    "list_of_feature_mtr = mid_term_features\n",
    "n_columns=5\n",
    "class_names = ['music', 'speech']\n",
    "n_features = len(feature_names)\n",
    "n_bins = 12\n",
    "n_rows = 2\n",
    "figs = plotly.subplots.make_subplots(rows=n_rows, cols=n_columns,\n",
    "                                     subplot_titles=less_important_5 + most_important_5)\n",
    "figs['layout'].update(height=(n_rows * 250))\n",
    "clr = get_color_combinations(len(class_names))\n",
    "count_less = count_most = 0\n",
    "for i in range(n_features):\n",
    "    if feature_names[i] in less_important_5:\n",
    "        count_less += 1\n",
    "        # for each feature get its bin range (min:(max-min)/n_bins:max)\n",
    "        f = np.vstack([x[:, i:i + 1] for x in list_of_feature_mtr])\n",
    "        bins = np.arange(f.min(), f.max(), (f.max() - f.min()) / n_bins)\n",
    "        for fi, f in enumerate(list_of_feature_mtr):\n",
    "            # load the color for the current class (fi)\n",
    "            mark_prop = dict(color=clr[fi], line=dict(color=clr[fi], width=3))\n",
    "            # compute the histogram of the current feature (i) and normalize:\n",
    "            h, _ = np.histogram(f[:, i], bins=bins)\n",
    "            h = h.astype(float) / h.sum()\n",
    "            cbins = (bins[0:-1] + bins[1:]) / 2\n",
    "            scatter_1 = go.Scatter(x=cbins, y=h, name=class_names[fi],\n",
    "                                   marker=mark_prop, showlegend=(i == 0))\n",
    "            # (show the legend only on the first line)\n",
    "            figs.append_trace(scatter_1, 1, count_less)\n",
    "for i in figs['layout']['annotations']:\n",
    "    i['font'] = dict(size=10, color='#224488')\n",
    "figs.show()"
   ]
  },
  {
   "cell_type": "code",
   "execution_count": null,
   "id": "e7ff2e8b",
   "metadata": {},
   "outputs": [],
   "source": []
  }
 ],
 "metadata": {
  "kernelspec": {
   "display_name": "Python 3 (ipykernel)",
   "language": "python",
   "name": "python3"
  },
  "language_info": {
   "codemirror_mode": {
    "name": "ipython",
    "version": 3
   },
   "file_extension": ".py",
   "mimetype": "text/x-python",
   "name": "python",
   "nbconvert_exporter": "python",
   "pygments_lexer": "ipython3",
   "version": "3.9.13"
  }
 },
 "nbformat": 4,
 "nbformat_minor": 5
}
